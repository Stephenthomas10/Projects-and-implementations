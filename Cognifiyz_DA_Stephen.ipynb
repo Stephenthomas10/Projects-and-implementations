{
  "nbformat": 4,
  "nbformat_minor": 0,
  "metadata": {
    "colab": {
      "provenance": [],
      "authorship_tag": "ABX9TyNsEM35T9+z4CHJ4l7iqd2Y",
      "include_colab_link": true
    },
    "kernelspec": {
      "name": "python3",
      "display_name": "Python 3"
    },
    "language_info": {
      "name": "python"
    }
  },
  "cells": [
    {
      "cell_type": "markdown",
      "metadata": {
        "id": "view-in-github",
        "colab_type": "text"
      },
      "source": [
        "<a href=\"https://colab.research.google.com/github/Stephenthomas10/Projects-and-implementations/blob/main/Cognifiyz_DA_Stephen.ipynb\" target=\"_parent\"><img src=\"https://colab.research.google.com/assets/colab-badge.svg\" alt=\"Open In Colab\"/></a>"
      ]
    },
    {
      "cell_type": "code",
      "execution_count": null,
      "metadata": {
        "colab": {
          "base_uri": "https://localhost:8080/"
        },
        "id": "GD5NswZ8T1Nv",
        "outputId": "bb7f53ac-0687-4dbb-eeb2-45d097692cd1"
      },
      "outputs": [
        {
          "output_type": "stream",
          "name": "stdout",
          "text": [
            "Top three most common cuisines:\n",
            "Cuisines\n",
            "North Indian             936\n",
            "North Indian, Chinese    511\n",
            "Chinese                  354\n",
            "Name: count, dtype: int64\n",
            "\n",
            "Percentage of restaurants serving each of the top cuisines:\n",
            "Cuisines\n",
            "North Indian             9.800021\n",
            "North Indian, Chinese    5.350225\n",
            "Chinese                  3.706418\n",
            "Name: count, dtype: float64\n"
          ]
        }
      ],
      "source": [
        "import pandas as pd\n",
        "\n",
        "# Load the dataset into a DataFrame\n",
        "df = pd.read_csv('/content/Dataset .csv')  # Replace 'your_dataset.csv' with the actual path to your dataset\n",
        "\n",
        "# Assuming the column containing cuisine information is named 'cuisine'\n",
        "cuisine_counts = df['Cuisines'].value_counts()\n",
        "\n",
        "# Determine the top three most common cuisines\n",
        "top_three_cuisines = cuisine_counts.head(3)\n",
        "\n",
        "# Calculate the total number of restaurants\n",
        "total_restaurants = len(df)\n",
        "\n",
        "# Calculate the percentage of restaurants serving each of the top cuisines\n",
        "percentages = (top_three_cuisines / total_restaurants) * 100\n",
        "\n",
        "print(\"Top three most common cuisines:\")\n",
        "print(top_three_cuisines)\n",
        "\n",
        "print(\"\\nPercentage of restaurants serving each of the top cuisines:\")\n",
        "print(percentages)\n"
      ]
    },
    {
      "cell_type": "code",
      "source": [
        "import pandas as pd\n",
        "\n",
        "# Load the dataset into a DataFrame\n",
        "df = pd.read_csv('/content/Dataset .csv')  # Replace 'your_dataset.csv' with the actual path to your dataset\n",
        "\n",
        "# Identify the city with the highest number of restaurants\n",
        "city_counts = df['City'].value_counts()\n",
        "city_with_highest_restaurants = city_counts.idxmax()\n",
        "\n",
        "# Calculate the average rating for restaurants in each city\n",
        "average_ratings = df.groupby('City')['Aggregate rating'].mean()\n",
        "\n",
        "# Determine the city with the highest average rating\n",
        "city_with_highest_average_rating = average_ratings.idxmax()\n",
        "\n",
        "print(\"City with the highest number of restaurants:\", city_with_highest_restaurants)\n",
        "\n",
        "print(\"\\nAverage rating for restaurants in each city:\")\n",
        "print(average_ratings)\n",
        "\n",
        "print(\"\\nCity with the highest average rating:\", city_with_highest_average_rating)\n"
      ],
      "metadata": {
        "colab": {
          "base_uri": "https://localhost:8080/"
        },
        "id": "TQWRtyN_TtT2",
        "outputId": "b93429aa-a6f6-4e74-855d-6641c5150d49"
      },
      "execution_count": null,
      "outputs": [
        {
          "output_type": "stream",
          "name": "stdout",
          "text": [
            "City with the highest number of restaurants: New Delhi\n",
            "\n",
            "Average rating for restaurants in each city:\n",
            "City\n",
            "Abu Dhabi          4.300000\n",
            "Agra               3.965000\n",
            "Ahmedabad          4.161905\n",
            "Albany             3.555000\n",
            "Allahabad          3.395000\n",
            "                     ...   \n",
            "Weirton            3.900000\n",
            "Wellington City    4.250000\n",
            "Winchester Bay     3.200000\n",
            "Yorkton            3.300000\n",
            "��stanbul          4.292857\n",
            "Name: Aggregate rating, Length: 141, dtype: float64\n",
            "\n",
            "City with the highest average rating: Inner City\n"
          ]
        }
      ]
    },
    {
      "cell_type": "code",
      "source": [
        "import pandas as pd\n",
        "import matplotlib.pyplot as plt\n",
        "\n",
        "# Load the dataset into a DataFrame\n",
        "df = pd.read_csv('/content/Dataset .csv')  # Replace 'your_dataset.csv' with the actual path to your dataset\n",
        "\n",
        "# Assuming the column containing price range information is named 'price_range'\n",
        "# Create a histogram or bar chart to visualize the distribution of price ranges\n",
        "plt.figure(figsize=(8, 6))\n",
        "df['Price range'].value_counts().plot(kind='bar', color='skyblue')\n",
        "plt.title('Price Range Distribution')\n",
        "plt.xlabel('Price Range')\n",
        "plt.ylabel('Number of Restaurants')\n",
        "plt.xticks(rotation=0)\n",
        "plt.grid(axis='y', linestyle='--', alpha=0.7)\n",
        "plt.tight_layout()\n",
        "plt.show()\n",
        "\n",
        "# Calculate the percentage of restaurants in each price range category\n",
        "price_range_percentages = df['Price range'].value_counts(normalize=True) * 100\n",
        "\n",
        "print(\"\\nPercentage of restaurants in each price range category:\")\n",
        "print(price_range_percentages)\n"
      ],
      "metadata": {
        "colab": {
          "base_uri": "https://localhost:8080/",
          "height": 746
        },
        "id": "pSokulADUjOp",
        "outputId": "a275fc8a-59fa-4af4-e1c6-645483feceb1"
      },
      "execution_count": null,
      "outputs": [
        {
          "output_type": "display_data",
          "data": {
            "text/plain": [
              "<Figure size 800x600 with 1 Axes>"
            ],
            "image/png": "[encoded data removed]"
          },
          "metadata": {}
        },
        {
          "output_type": "stream",
          "name": "stdout",
          "text": [
            "\n",
            "Percentage of restaurants in each price range category:\n",
            "Price range\n",
            "1    46.529159\n",
            "2    32.593446\n",
            "3    14.741912\n",
            "4     6.135483\n",
            "Name: proportion, dtype: float64\n"
          ]
        }
      ]
    },
    {
      "cell_type": "code",
      "source": [
        "import pandas as pd\n",
        "\n",
        "# Load the dataset into a DataFrame\n",
        "df = pd.read_csv('/content/Dataset .csv')  # Replace 'your_dataset.csv' with the actual path to your dataset\n",
        "\n",
        "# Determine the percentage of restaurants that offer online delivery\n",
        "online_delivery_percentage = ((df['Has Online delivery'] == 'Yes').mean() * 100)\n",
        "\n",
        "# Compare the average ratings of restaurants with and without online delivery\n",
        "average_rating_with_delivery = df[df['Has Online delivery'] == 'Yes']['Aggregate rating'].mean()\n",
        "average_rating_without_delivery = df[df['Has Online delivery'] == 'No']['Aggregate rating'].mean()\n",
        "\n",
        "print(\"Percentage of restaurants that offer online delivery:\", online_delivery_percentage)\n",
        "print(\"Average rating of restaurants with online delivery:\", average_rating_with_delivery)\n",
        "print(\"Average rating of restaurants without online delivery:\", average_rating_without_delivery)\n"
      ],
      "metadata": {
        "colab": {
          "base_uri": "https://localhost:8080/"
        },
        "id": "LWd8Xo72VQKG",
        "outputId": "97d9a9de-fd50-4f0a-d0f5-f45dd941b3d0"
      },
      "execution_count": null,
      "outputs": [
        {
          "output_type": "stream",
          "name": "stdout",
          "text": [
            "Percentage of restaurants that offer online delivery: 25.662234321013504\n",
            "Average rating of restaurants with online delivery: 3.2488372093023257\n",
            "Average rating of restaurants without online delivery: 2.465295774647887\n"
          ]
        }
      ]
    },
    {
      "cell_type": "markdown",
      "source": [
        "level 2"
      ],
      "metadata": {
        "id": "aJ18T06pXwNf"
      }
    },
    {
      "cell_type": "code",
      "source": [
        "import pandas as pd\n",
        "\n",
        "# Load the dataset into a DataFrame\n",
        "df = pd.read_csv('/content/Dataset .csv')  # Replace 'your_dataset.csv' with the actual path to your dataset\n",
        "\n",
        "# Define bins for ratings\n",
        "bins = [0, 1, 2, 3, 4, 5]  # Assuming ratings are on a scale of 0 to 5\n",
        "\n",
        "# Cut the ratings into bins\n",
        "rating_bins = pd.cut(df['Aggregate rating'], bins=bins, include_lowest=True)\n",
        "\n",
        "# Count the number of ratings falling within each bin\n",
        "rating_counts = rating_bins.value_counts()\n",
        "\n",
        "# Find the most common rating range\n",
        "most_common_rating_range = rating_counts.idxmax()\n",
        "\n",
        "print(\"Most common rating range:\", most_common_rating_range)\n",
        "\n",
        "# Calculate the average number of votes received by restaurants\n",
        "average_votes = df['Votes'].mean()\n",
        "\n",
        "print(\"Average number of votes received by restaurants:\", average_votes)\n"
      ],
      "metadata": {
        "colab": {
          "base_uri": "https://localhost:8080/"
        },
        "id": "I5rSEMnAXx1d",
        "outputId": "bdd5445e-6f62-498e-c593-ebbd23ceabd5"
      },
      "execution_count": null,
      "outputs": [
        {
          "output_type": "stream",
          "name": "stdout",
          "text": [
            "Most common rating range: (3.0, 4.0]\n",
            "Average number of votes received by restaurants: 156.909747670401\n"
          ]
        }
      ]
    },
    {
      "cell_type": "code",
      "source": [
        "import pandas as pd\n",
        "\n",
        "# Load the dataset into a DataFrame\n",
        "df = pd.read_csv('/content/Dataset .csv')  # Replace 'your_dataset.csv' with the actual path to your dataset\n",
        "\n",
        "# Split the cuisine column by comma to get a list of cuisine combinations\n",
        "df['cuisine_combinations'] = df['Cuisines'].str.split(', ')\n",
        "\n",
        "# Explode the lists so that each cuisine in a combination gets its own row\n",
        "df_exploded = df.explode('cuisine_combinations')\n",
        "\n",
        "# Identify the most common combinations of cuisines\n",
        "most_common_combinations = df_exploded['cuisine_combinations'].value_counts().head(10)\n",
        "print(\"Most common combinations of cuisines:\")\n",
        "print(most_common_combinations)\n",
        "\n",
        "# Determine if certain cuisine combinations tend to have higher ratings\n",
        "cuisine_rating_means = df_exploded.groupby('cuisine_combinations')['Aggregate rating'].mean().sort_values(ascending=False).head(10)\n",
        "print(\"\\nAverage ratings for different cuisine combinations:\")\n",
        "print(cuisine_rating_means)\n"
      ],
      "metadata": {
        "colab": {
          "base_uri": "https://localhost:8080/"
        },
        "id": "wXw5svBAZsc9",
        "outputId": "f1f92875-a44b-4a8e-a73a-bc6f4c8b16f7"
      },
      "execution_count": null,
      "outputs": [
        {
          "output_type": "stream",
          "name": "stdout",
          "text": [
            "Most common combinations of cuisines:\n",
            "cuisine_combinations\n",
            "North Indian    3960\n",
            "Chinese         2735\n",
            "Fast Food       1986\n",
            "Mughlai          995\n",
            "Italian          764\n",
            "Bakery           745\n",
            "Continental      736\n",
            "Cafe             703\n",
            "Desserts         653\n",
            "South Indian     636\n",
            "Name: count, dtype: int64\n",
            "\n",
            "Average ratings for different cuisine combinations:\n",
            "cuisine_combinations\n",
            "Sunda         4.900000\n",
            "B�_rek        4.700000\n",
            "Taiwanese     4.650000\n",
            "Ramen         4.500000\n",
            "Dim Sum       4.466667\n",
            "Hawaiian      4.412500\n",
            "D�_ner        4.400000\n",
            "Bubble Tea    4.400000\n",
            "Curry         4.400000\n",
            "Kebab         4.380000\n",
            "Name: Aggregate rating, dtype: float64\n"
          ]
        }
      ]
    },
    {
      "cell_type": "code",
      "source": [
        "\n",
        "#pending\n",
        "import pandas as pd\n",
        "import folium\n",
        "\n",
        "# Load the dataset into a DataFrame\n",
        "df = pd.read_csv('/content/Dataset .csv')  # Replace 'your_dataset.csv' with the actual path to your dataset\n",
        "\n",
        "# Create a map centered around the average latitude and longitude of the restaurants\n",
        "map_restaurants = folium.Map(location=[df['Latitude'].mean(), df['Longitude'].mean()], zoom_start=12)\n",
        "\n",
        "# Add markers for each restaurant\n",
        "for index, row in df.iterrows():\n",
        "    folium.Marker([row['Latitude'], row['Longitude']], popup=row['Restaurant Name']).add_to(map_restaurants)\n",
        "\n",
        "# Display the map\n",
        "map_restaurants.save('restaurant_map.html')  # Save the map as an HTML file\n"
      ],
      "metadata": {
        "id": "sECdwY9AeAWv"
      },
      "execution_count": null,
      "outputs": []
    },
    {
      "cell_type": "code",
      "source": [
        "import pandas as pd\n",
        "\n",
        "# Load the dataset into a DataFrame\n",
        "df = pd.read_csv('/content/Dataset .csv')  # Replace 'your_dataset.csv' with the actual path to your dataset\n",
        "\n",
        "# Identify if there are any restaurant chains present in the dataset\n",
        "# Assuming 'restaurant_name' is the column containing the name of restaurants\n",
        "chains = df['Restaurant Name'].value_counts()\n",
        "restaurant_chains = chains[chains > 1].index.tolist()\n",
        "\n",
        "if len(restaurant_chains) > 0:\n",
        "    print(\"Restaurant chains present in the dataset:\", restaurant_chains)\n",
        "else:\n",
        "    print(\"No restaurant chains found in the dataset.\")\n",
        "\n",
        "# Analyze the ratings and popularity of different restaurant chains\n",
        "if len(restaurant_chains) > 0:\n",
        "    chain_ratings = df[df['Restaurant Name'].isin(restaurant_chains)].groupby('Restaurant Name')['Aggregate rating'].mean().sort_values(ascending=False)\n",
        "    chain_popularity = df[df['Restaurant Name'].isin(restaurant_chains)].groupby('Restaurant Name')['Votes'].sum().sort_values(ascending=False)\n",
        "\n",
        "    print(\"\\nAverage ratings of different restaurant chains:\")\n",
        "    print(chain_ratings)\n",
        "\n",
        "    print(\"\\nPopularity of different restaurant chains (based on total votes):\")\n",
        "    print(chain_popularity)\n"
      ],
      "metadata": {
        "colab": {
          "base_uri": "https://localhost:8080/"
        },
        "id": "zVBCRkS0jt3m",
        "outputId": "4088e84f-3e70-43e7-d549-fdcda3ad87a9"
      },
      "execution_count": null,
      "outputs": [
        {
          "output_type": "stream",
          "name": "stdout",
          "text": [
            "Restaurant chains present in the dataset: ['Cafe Coffee Day', \"Domino's Pizza\", 'Subway', 'Green Chick Chop', \"McDonald's\", 'Keventers', 'Pizza Hut', 'Giani', 'Baskin Robbins', 'Barbeque Nation', \"Giani's\", 'Barista', \"Dunkin' Donuts\", 'Costa Coffee', 'Pind Balluchi', 'Wah Ji Wah', 'Twenty Four Seven', 'Pizza Hut Delivery', 'Sagar Ratna', 'Republic of Chicken', 'KFC', 'Starbucks', 'Chaayos', 'Burger King', \"Haldiram's\", 'Shree Rathnam', 'Frontier', 'Moti Mahal Delux', 'Bikanervala', 'Aggarwal Sweets', 'Behrouz Biryani', \"Karim's\", 'Bikaner Sweets', 'Chicago Pizza', 'Apni Rasoi', '34, Chowringhee Lane', 'Wow! Momo', 'Madras Cafe', 'Burger Point', 'Gopala', 'Shama Chicken Corner', \"Berco's\", \"Nirula's Ice Cream\", 'Sardar A Pure Meat Shop', 'Yo! China', 'Cocoberry', 'Punjabi Tadka', 'Angels in my Kitchen', 'Faasos', 'Ovenstory Pizza', 'Chowringhee', 'Punjabi Chaap Corner', 'Kebab Xpress', 'Nazeer Foods', 'RollsKing', 'Tpot', 'Mocha', 'Dolce Gelato', \"Tibb's Frankie\", 'The Yellow Chilli', 'Slice of Italy', 'BTW', 'Khan Chacha', \"Chawla's�_\", 'China Town', 'Chinese Hut', 'Sanjha Chulha', 'Moti Mahal Delux Tandoori Trail', 'Mr. Sub', 'Al Bake', 'Bikaner Sweets & Restaurant', \"TGI Friday's\", 'Kings Kulfi', 'Pudding & Pie', 'Cafe Coffee Day - The Lounge', 'Southy', 'The Diet Kitchen', 'Biryani Blues', 'Goli Vada Pav No. 1', 'Punjabi Rasoi', 'The Beer Cafe', 'Wrapss', 'Mainland China', 'Farzi Cafe', 'Red Chilli', \"Nathu's Sweets\", 'Instapizza', \"Chili's\", \"Nando's\", 'Aggarwal Sweet India', 'Texas Roadhouse', 'Cake Point', 'Pita Pit', 'Chinese Corner', 'The Midnight Heroes', 'Kake Da Hotel', \"L'Opera\", 'Nukkadwala', \"Flirty Momo's\", 'Viva Hyderabad', 'Swagath', 'Sandoz', 'Punjab Grill', 'Kettle & Kegs', 'The Chinese Hut', 'Captain Grub', 'Mad Over Donuts', 'Aggarwal Sweet Corner', 'SGF - Spice Grill Flame', 'Shree Bikaner Misthan Bhandar', 'Da Pizza Corner', 'Happy Hakka', 'Hot Pot', 'Chai Garam', 'Gola Sizzlers', 'Pakwan', \"Applebee's\", 'Kathi Junction', \"Qureshi's Kabab Corner\", 'Meatwale.com', \"Jamie's Italian\", 'GoGourmet', 'The Coffee Bean & Tea Leaf', 'Sugar & Spice - Le Marche', 'The Kathis', 'Public Cafe', \"Kwality Wall's Swirl's\", 'Chaska', 'Bun Intended', 'Pirates of Grill', 'South Indian Hut', \"DCK- Dana Choga's Kitchen\", 'Gelato Vinto', 'Jungle Jamboree', 'Bawarchi', 'Deez Biryani & Kebabs', 'Chai Point', 'Hong Kong Express', \"Nirula's\", 'Aapki Rasoi', 'Burger Xpress', 'Rainbows', 'Mx Corn', \"Colonel's Kababz\", 'Punjabi Zaika', 'FreshMenu', \"Chawla's 2\", 'Open Oven', 'Tea Villa Cafe', 'Puri Bakers', \"Nizam's Kathi Kabab\", 'Zaika', \"AB's - Absolute Barbecues\", 'Nite Bites', \"Punjabi's Veg Grill\", 'Momo-Cha', 'Super Cake Shop', 'Big Chill', 'Movenpick', 'Mamagoto', \"Kanwarji's\", 'Big Yellow Door', 'Foodies', 'Doughlicious', 'Zizo', 'Onesta', 'Chimney', 'Aggarwal Bikaner Sweets', 'Zaffran', 'Foodhall', 'Just Vada Pav', 'Roll Club', 'Amici Cafe', 'Chinese Food Corner', 'Kerala Cafe', 'Wok On Fire', 'Bats On Delivery', 'Amul Ice-Cream Parlour', 'Cafe Delhi Heights', 'Bharat Sweets', \"Chawla's Chic Inn\", 'Tikka Town', 'Talaga Sampireun', 'Bikkgane Biryani', 'Shawarma Wala', 'True Blue', 'Punjabi Dhaba', 'Food Plaza', 'Chinese Food', 'SodaBottleOpenerWala', 'Breaktym', 'Defence Bakery', 'Muradabadi Shahi Biryani & Chicken Corner', 'Tikka Junction', 'Aggarwal Sweets India', 'Not Just Paranthas', 'Krispy Kreme', 'HuHot Mongolian Grill', 'Hard Rock Cafe', 'Goosebumps', 'Street Foods by Punjab Grill', 'Habibi Express', 'Joost Juice Bar', 'Desi Vibes', \"La Pino'z Pizza\", 'The Chai Story', 'Wah G Wah', 'Hira Sweets', 'Hasty Tasty', 'Shahenshah', 'Midnight Hunger Hub', 'Riyaz Biryani Corner', 'Polka Pastry & Snack Bar', 'Changezi Chicken', 'Aggarwal Sweet Centre', 'Urban Punjab', 'Side Wok', 'Havmor Ice Cream', \"The Fisherman's Wharf\", 'Cafe Turtle', 'Chaophraya', 'Sri Balaji', \"Chawla's Tandoori Junction\", 'Palmshore', 'Rollmaal', 'Speedy Chow', 'Om Sweets & Snacks', 'Taco Bell', 'Food Scouts', 'New Madras Cafe', 'Cakes & Bakes', 'Sushiya Express', \"KB's Kulfi & Icecream\", 'Bunty Dhaba', 'Flying Cakes', 'Baked Buns', 'Mitra Da Dhaba', 'Mr. Brown', 'Veg Ex', 'BarShala', 'Tea Halt', '221 B Baker Street', 'The Golden Dragon', 'Burger Singh', 'Finger Licious', 'Pizza Hub', 'The Chaiwalas', 'Jaiveer Naan & Chaap', 'Punjab Restaurant', 'Captain Bill$ Deliverz', 'Health Buzzz', 'Little Chef', 'Punjabi Pakwaan', 'Biryani By Kilo', \"QD's Restaurant\", \"Hangchuaa's Chinese Food Corner\", 'Indian Coffee House', 'Dilli Darbar', 'Niti Shake & Ice Cream Hub', 'Saravana Bhavan', 'Bake N Shake', 'Gazebo', 'Pizza Station', 'D�_ner Grill', 'Naivedyam', 'Radha Swami Shudh Vaishno Dhaba', 'Druk', 'Qureshi Kabab Corner', 'Da Pizza Zone', 'The Cheesecake Factory', 'Raj Restaurant', 'The Night Owl', \"Bikaner's\", 'Papa Veg Chinese Food', 'Khan Chicken Biryani', 'Bikaner Sweets & Bakers', 'Metro Dhaba', 'Naturals Ice Cream', 'Zaika Kathi Rolls', 'Flavours', 'Spanish Delights', \"Hunger's Hub\", 'Relax Xpress', 'The Barbeque Company', 'Dosa Plaza', 'Whipped', 'Night Munchers', 'Khalsa Veg Corner', 'Mr. Momo', 'Hot Cherries', 'Wild Chef House', 'MR.D - Deliciousness Delivered', 'Royal Spice', 'The Great Kabab Factory', 'Ceviche Tapas Bar & Restaurant', 'Fresh Meat CO', 'Brown Town', 'Moksha', 'Big Biryani', 'Bon Bon Pastry Shop', \"Mother's Kitchen\", 'Golden Bakery', \"Mom's Kitchen\", 'New Punjabi Khana', 'Oh Buoy', 'Americana Kitchen and Bar', \"Carl's Jr.\", 'Hungry - I', 'Al Zaika', 'SpiceKlub', 'Delhi Club House', 'Pebble Street', 'Biryani Express', 'Kati Roll Cottage', 'Stop My Starvation', 'Midnight Hunger', 'Kulcha King', 'Beijing Street', 'Nazeer Delicacies', 'Singz', 'Pho King Awesome', 'Anupam Sweets', 'Baba Chicken Ludhiana Wale', \"AB's Absolute Barbecues\", 'Rolling Beans', 'The Culinary Pitaara', 'Garam Dharam', 'Chinese Fast Food', 'The China Town', 'Aggarwal Sweets Centre', 'Embassy', 'New Kadimi', 'Caffe Tonino', 'Pandit Ji Ki Apni Rasoi', 'Shree Durga Dosa', 'Sagar Dhaba', 'Angeethi', 'Basil Tree', 'China Hot Pot', \"Punjabee's Darbar\", 'Khana Khazana', 'Natural Ice Cream', 'Jyoti Sweets', 'New Town Cafe - Park Plaza', 'Biryani Vice', 'Riyaz Chicken Corner', \"Oberoi's\", 'Jahangeer Foods', 'Green Restaurant', 'Momos House', 'Miam', 'Delight Express', 'China Hut', 'Hawkers', 'Crazy Noodles', 'South Cafe', 'Zaaika Junction', 'Le Chef', \"WTF - World's Tastiest Food\", 'Biryani Art', 'Moon Bite', 'Gupta Chat Corner', 'Pizza King', 'Pastry Palace', 'Tipu Sultan', 'All About Food', 'Snack Shack', 'Cafe Brown Sugar', 'The Pirates Of China Town', 'Arabian Delites', 'Kake Di Hatti', 'Burgrill', 'Chilli Tadka', 'Ashoka Restaurant', 'Cafe Coffee Day The Square', 'Delhi Chaat Bhandar', 'Ashok Meat Wala', 'Juice Lounge', 'Shamji Sweets', 'Fluffles - The Fluffy Waffle Co.', 'Ram Chinese Food', 'Chawnsan Chef', 'Reena Restaurant', 'Invitation', \"Soya Bite's\", 'Choco Kraft', 'Bakingo', 'Gulab', 'Garam Masala', 'Anand Sweets', 'Singh Chicken', \"Baker's Stop\", 'Raj Rasoi', 'Grover Sweets', 'Dev Food', 'Konetto Pizza', 'Dunkin Donuts', 'Perfect Bake', 'Blue Tokai Coffee Roasters', '34 Parkstreet Lane', 'Pandey Chinese Hut', 'Rajdhani Restaurant', 'Maggi Point', 'The Taste', 'Flavours Kitchen', 'Suruchi', 'The Chocolate Room', 'Aap Ki Khatir', 'Roti Aur Boti', 'Imperfecto', 'Firangi Bake', 'Out Of The Box', 'Hungry Minister', 'Biryani Bot', 'Black Pepper', \"Hurry's Paratha\", 'Yomo-Your Only Momo Outlet', 'Jain Restaurant', 'Dilli Light', 'Burger Joint', 'Hot Stuff', 'Paradise', 'Dilli BC', 'Sumo Sushi', 'Bakers Oven', 'Punjabi By Nature', 'Mogambo Kitchen', 'Sbarro', 'Paramjeet Machi Wala', 'Kake Da Dhaba', 'La Americana', 'Mithaas', 'Biryaniwala', 'Kesarwa Bakez', 'Nutritious Nation', 'Bake Walkers', 'Green Valley Chinese Food', 'Chinese Hot', 'Mithaas Sweets', 'The Cake Shop', 'China Garden', 'Kumar Pastry Shop', 'Twisted Tacos', 'Hwealthcafe', 'Whatslife.in', 'Chutneez Restaurant Lounge & Bar', \"Kamal's\", 'Shake Square', 'Pasta Hub', \"Chawla's Tandoori Xpress\", 'Caffe 9', 'The Roll Van', 'Truffles', 'Lasha Chinese Food', 'Baker Street', 'Hot & Spicy', 'Koyla Kebab', 'Adyar Ananda Bhavan', '10 Downing Street', 'Matchbox', 'Tamura', 'Smoke House Deli', 'Fit Bites', 'Manohar Dairy And Restaurant', 'Bombay Brasserie', 'Flavors Of London', 'Frozen Factory', 'Bhappe Di Hatti', 'Desi Tadka', 'Kanha Sweets', 'Teddy Boy', 'KC Bakers', 'Nawabi Mughlai Zaika', 'The Flying Saucer Cafe', 'Mysore Cafe', 'The Tandoor', 'The Junkyard Cafe', 'Bikaner Misthan Bhandar', 'Gupta Ji Ka Dhaba', 'Gung The Palace', 'Bhoj Restaurant', 'The Kitchen', 'Dezertfox', '4700BC Popcorn', 'Underdoggs Sports Bar & Grill', 'San Carlo', 'Bikano Chat Cafe', 'Bengal Sweet Corner', 'Amritsari Dhaba', 'Metro Fast Food', \"Shawarma King's\", \"Nagpal's\", 'Pizza Day', 'Shankar Fast Food', 'Chinese King', 'Chao Cart', 'The Mirch Masala', 'Anjlika Pastry Shop', 'Wai Yu Mun Ching', \"Chili's Grill & Bar\", '6 Pack Momos', 'Spooky Sky', 'Night Food Xprs', 'BonJuz', 'Weird Time Food', 'Twigly', 'The Artful Baker', 'Amar Bakery', 'Perch Wine & Coffee Bar', 'Liquid', 'Dishoom', 'Granite City Food & Brewery', 'Taste of India', 'Magic Masala', 'Gymkhana', 'High On Burgers', \"Harry's Bar + Cafe\", 'The Blue Tandoor', 'Eggers Madhouse', 'D Food', 'Asian Haus', 'Sonya Bakery Cafe', 'Bikaner Kesarvala', 'Sibang Bakery', \"Bhimsain's Bengali Sweet House\", 'Made In Punjab', 'Bijoli Grill', 'Chai Thela', 'Balaji Dhaba', 'Aggarwal Sweets & Restaurant', \"Wendy's\", 'Madras Dosa & Chinese', \"Sethi's The Cake Shop\", 'Mitthu Tikki Wala', 'Paapi Paet', 'Manohar Bikkaneri', 'Smaaash', 'A Piece of Paris', 'Cones & Curries', 'Urban Dhaba', 'Mahi Rasoi', 'Munch Nation', 'Sadda Adda', 'The Chatter House', 'Crudo Juicery', \"VadaPav 'n' Frankie\", 'The Breakfast Club', 'Oberoi Biryani', 'Wheelyz', 'Yadav Sweets', 'Los Agaves', 'Drool Waffles', 'Hornbill', 'The Cafe', 'Wagh Bakri Tea Lounge', 'Chalte Firte Momos & Special Foods', \"Ammu's South Indian Restaurant\", 'Nooba', 'Fish Streat', 'The Big Chill Cakery', 'Pizza Diet', 'Madras Coffee House', 'Garota de Ipanema', 'Barbeque Ville', 'Little Italy', 'Kebab Gali', 'Murliwala Bakers', 'Litti.In', 'Baking Bad', 'Tandoori Junction', 'First Eat', \"Cafe Buddy's\", 'Coldpress Company', 'Say Cheese', 'ZASTY', 'Pizza Yum', 'JSB Evergreen Snack & Sweets', 'Fast Trax', 'Clever Fox Cafe', \"Joey's Pizza\", 'Grillz', 'Coco Bambu', 'Timboo Cafe', 'Nanking', 'Habibi', 'Din Tai Fung', 'Cinnabon', 'Silantro Fil-Mex', 'EDC Mania', 'Drifters Cafe', 'Haldiram Bhujiawala', 'D�_vero��lu', 'The Mad Teapot/The Wishing Chair', 'Spice Route', 'The Bake Studio', 'Puja Sandwich House', 'OCD - Online Cake Delivery', 'Muffins', 'Rasoi - The Indian Zaika', 'Vadapav Junction', 'Super Snacks', 'Green Chilli', 'Roll Corner', 'Bobby Tikki Wala', 'Dabba Meat', 'Crust N Cakes', 'Chennai Express', 'Fresh n Refresh', 'Garden Hut', 'Mellow Mushroom', \"Rhinehart's Oyster Bar\", 'Cake 24x7', 'Bake Club', 'Royale Bakers', 'South Indian Corner', 'Fabulous Cake Bites', 'Chaap Point', 'The National', 'Syall Kotian Da Dhaba', 'Rajshree', 'Go Kylin', \"Aggarwal's Sweets Paradise\", 'Burger Hut', 'Lazeez Restaurant', 'Madhuvan Chinese Fast Food', 'Chick-fil-A', 'Cook Du Kdu', 'Theos', 'Ghar Ka Khana', 'Food Express', 'Mirchievous', 'Rasoi', 'Bikaner Rasoi', 'Alaturka', 'Kitchen King', 'Big Fat Sandwich', 'Red Mango', 'Food Factory', 'Hunger Strike', \"Kamboj's\", 'Tandoori Tadka', 'Cake Palace', 'Hot Joint Fast Food', 'Hyderabad House', 'Ichiban', 'Aggarwal Bikaneri Sweets', 'Papa Buns', 'Adarsh Kulfi', 'Punjabi Chicken', 'Evergreen Sweets', 'bu��no', 'Ankur Family Restaurant', 'Effingut Brewerkz', 'Comesum', 'Aggarwal Sweet & Bakers', 'Brijwasi Restaurant', 'Street Cafe', 'Shyam Sweets', 'Chawla Family Restaurant', 'Country Curries', \"Faaso's\", 'Green Leaf', 'The Crab Shack', 'Vaishno Punjabi Dhaba', 'Vaishno Rasoi', 'Dilli Rasoi', 'Cafe Diva', 'Ramesh Vaishno Dhaba', 'Yumm Biryani', 'Essen Foods', 'Chai Mantra', 'Pasta Hut', \"Senorita's\", 'Caff�� La Poya', 'South Indian Cafe', 'Chawlas 2', 'Tea Trails', 'Laxmi Ice Cream', 'Organic Express', 'Yo! Dimsum', \"Jack Po!tato's\", 'The Chef', 'Patiala Shahi', 'Sandwich King', 'Special Chicken Biryani', 'The Belgian Fries Company', 'Wood Box Cafe', 'Shalimar Vyanjan', 'Arabian Nites', 'Moti Mahal Delux- Legendary Culinary', 'The Square Meal', 'Night Food Delivery', \"Mr. Baker's\", 'Aureo Dine & Bake House', 'Kaveri Restaurant And Caterers', 'U Like', 'New Zaika', 'Big Wong XL', \"Gullu's\", 'Kolkata Kathi Roll', 'Italiano', 'Kolkata Hot Kathi Roll', \"Zooby's Kitchen\", 'Hotel Malabar', 'Dana Pani', 'Big Dragon', 'Standard Sweets', 'Kolkata Biryani House', 'Circus', 'Pitstop', 'The Big Scoop', 'Imly', 'Prince Chaat Corner', \"Chawla's\", 'Khidmat', 'The Creamery', 'Shri Ram Restaurant', 'Chauhan Hotel', 'Au Bon Pain', \"Let's Noodle\", \"Fat Lulu's\", 'Oh! Calcutta', 'Otik Cake Shop', 'Olive Bistro', 'Raasta', 'The Pint Room', 'Snacks Point', 'The Dosa King', 'Chokola', 'Town Hall', 'Halki Aanch', 'Snack Junction', 'Delhi Biryani Hut', 'Beliram Degchiwala']\n",
            "\n",
            "Average ratings of different restaurant chains:\n",
            "Restaurant Name\n",
            "Talaga Sampireun                   4.900\n",
            "Silantro Fil-Mex                   4.850\n",
            "AB's Absolute Barbecues            4.850\n",
            "AB's - Absolute Barbecues          4.825\n",
            "Naturals Ice Cream                 4.800\n",
            "                                   ...  \n",
            "Big Biryani                        0.000\n",
            "Flavours Kitchen                   0.000\n",
            "Anand Sweets                       0.000\n",
            "Radha Swami Shudh Vaishno Dhaba    0.000\n",
            "OCD - Online Cake Delivery         0.000\n",
            "Name: Aggregate rating, Length: 734, dtype: float64\n",
            "\n",
            "Popularity of different restaurant chains (based on total votes):\n",
            "Restaurant Name\n",
            "Barbeque Nation              28142\n",
            "AB's - Absolute Barbecues    13400\n",
            "Big Chill                    10853\n",
            "Farzi Cafe                   10098\n",
            "Truffles                      9682\n",
            "                             ...  \n",
            "Bikaner Misthan Bhandar          0\n",
            "Aap Ki Khatir                    0\n",
            "Street Cafe                      0\n",
            "Jyoti Sweets                     0\n",
            "Firangi Bake                     0\n",
            "Name: Votes, Length: 734, dtype: int64\n"
          ]
        }
      ]
    },
    {
      "cell_type": "code",
      "source": [
        "import nltk\n",
        "nltk.download('punkt')\n",
        "nltk.download('averaged_perceptron_tagger')\n"
      ],
      "metadata": {
        "colab": {
          "base_uri": "https://localhost:8080/"
        },
        "id": "n14rDCJ4QgDI",
        "outputId": "676d5c8f-23cb-4f90-e810-087960a6b118"
      },
      "execution_count": null,
      "outputs": [
        {
          "output_type": "stream",
          "name": "stderr",
          "text": [
            "[nltk_data] Downloading package punkt to /root/nltk_data...\n",
            "[nltk_data]   Package punkt is already up-to-date!\n",
            "[nltk_data] Downloading package averaged_perceptron_tagger to\n",
            "[nltk_data]     /root/nltk_data...\n",
            "[nltk_data]   Unzipping taggers/averaged_perceptron_tagger.zip.\n"
          ]
        },
        {
          "output_type": "execute_result",
          "data": {
            "text/plain": [
              "True"
            ]
          },
          "metadata": {},
          "execution_count": 4
        }
      ]
    },
    {
      "cell_type": "code",
      "source": [
        "import pandas as pd\n",
        "from textblob import TextBlob\n",
        "import nltk\n",
        "from nltk.corpus import stopwords\n",
        "from collections import Counter\n",
        "\n",
        "# Load the dataset into a DataFrame\n",
        "df = pd.read_csv('/content/Dataset .csv')  # Replace 'your_dataset.csv' with the actual path to your dataset\n",
        "\n",
        "# Analyze text reviews to identify most common positive and negative keywords\n",
        "positive_keywords = []\n",
        "negative_keywords = []\n",
        "\n",
        "for review in df['Rating text']:\n",
        "    blob = TextBlob(str(review))\n",
        "    for word, tag in blob.tags:\n",
        "        if tag in ['Excellent', 'Very Good', 'Good']:  # Adjectives indicating sentiment\n",
        "            if blob.sentiment.polarity > 0:  # Positive sentiment\n",
        "                positive_keywords.append(word)\n",
        "            elif blob.sentiment.polarity < 0:  # Negative sentiment\n",
        "                negative_keywords.append(word)\n",
        "\n",
        "# Count the occurrences of positive and negative keywords\n",
        "positive_keywords_counts = Counter(positive_keywords)\n",
        "negative_keywords_counts = Counter(negative_keywords)\n",
        "\n",
        "print(\"Most common positive keywords:\", positive_keywords_counts.most_common(10))\n",
        "print(\"Most common negative keywords:\", negative_keywords_counts.most_common(10))\n",
        "\n",
        "# Calculate the average length of reviews\n",
        "df['review_length'] = df['Rating text'].apply(lambda x: len(str(x)))\n",
        "average_review_length = df['review_length'].mean()\n",
        "\n",
        "print(\"\\nAverage length of reviews:\", average_review_length)\n",
        "\n",
        "# Explore the relationship between review length and rating\n",
        "average_review_length_by_rating = df.groupby('Aggregate rating')['review_length'].mean()\n",
        "\n",
        "print(\"\\nAverage review length by rating:\")\n",
        "print(average_review_length_by_rating)\n"
      ],
      "metadata": {
        "colab": {
          "base_uri": "https://localhost:8080/"
        },
        "id": "2IML-TGdkdFO",
        "outputId": "be5881ac-0217-49ee-8178-41ed8cc221b2"
      },
      "execution_count": null,
      "outputs": [
        {
          "output_type": "stream",
          "name": "stdout",
          "text": [
            "Most common positive keywords: []\n",
            "Most common negative keywords: []\n",
            "\n",
            "Average length of reviews: 7.020730813527379\n",
            "\n",
            "Average review length by rating:\n",
            "Aggregate rating\n",
            "0.0    9.0\n",
            "1.8    4.0\n",
            "1.9    4.0\n",
            "2.0    4.0\n",
            "2.1    4.0\n",
            "2.2    4.0\n",
            "2.3    4.0\n",
            "2.4    4.0\n",
            "2.5    7.0\n",
            "2.6    7.0\n",
            "2.7    7.0\n",
            "2.8    7.0\n",
            "2.9    7.0\n",
            "3.0    7.0\n",
            "3.1    7.0\n",
            "3.2    7.0\n",
            "3.3    7.0\n",
            "3.4    7.0\n",
            "3.5    4.0\n",
            "3.6    4.0\n",
            "3.7    4.0\n",
            "3.8    4.0\n",
            "3.9    4.0\n",
            "4.0    9.0\n",
            "4.1    9.0\n",
            "4.2    9.0\n",
            "4.3    9.0\n",
            "4.4    9.0\n",
            "4.5    9.0\n",
            "4.6    9.0\n",
            "4.7    9.0\n",
            "4.8    9.0\n",
            "4.9    9.0\n",
            "Name: review_length, dtype: float64\n"
          ]
        }
      ]
    },
    {
      "cell_type": "code",
      "source": [
        "import pandas as pd\n",
        "import matplotlib.pyplot as plt\n",
        "\n",
        "# Load the dataset into a DataFrame\n",
        "df = pd.read_csv('/content/Dataset .csv')  # Replace 'your_dataset.csv' with the actual path to your dataset\n",
        "\n",
        "# Identify the restaurants with the highest and lowest number of votes\n",
        "highest_voted_restaurant = df.loc[df['Votes'].idxmax()]\n",
        "lowest_voted_restaurant = df.loc[df['Votes'].idxmin()]\n",
        "\n",
        "print(\"Restaurant with the highest number of votes:\")\n",
        "print(highest_voted_restaurant[['Restaurant Name', 'Votes']])\n",
        "\n",
        "print(\"\\nRestaurant with the lowest number of votes:\")\n",
        "print(lowest_voted_restaurant[['Restaurant Name', 'Votes']])\n",
        "\n",
        "# Analyze the correlation between the number of votes and the rating of a restaurant\n",
        "correlation = df['Votes'].corr(df['Aggregate rating'])\n",
        "\n",
        "print(\"\\nCorrelation between number of votes and rating:\", correlation)\n",
        "\n",
        "# Visualize the relationship between votes and rating\n",
        "plt.scatter(df['Votes'], df['Aggregate rating'])\n",
        "plt.xlabel('Number of Votes')\n",
        "plt.ylabel('Rating')\n",
        "plt.title('Relationship between Votes and Rating')\n",
        "plt.show()\n"
      ],
      "metadata": {
        "colab": {
          "base_uri": "https://localhost:8080/",
          "height": 663
        },
        "id": "WoQNIghAQ9pp",
        "outputId": "22e563d5-405b-4e59-b5e9-0ba65bf572e1"
      },
      "execution_count": null,
      "outputs": [
        {
          "output_type": "stream",
          "name": "stdout",
          "text": [
            "Restaurant with the highest number of votes:\n",
            "Restaurant Name     Toit\n",
            "Votes              10934\n",
            "Name: 728, dtype: object\n",
            "\n",
            "Restaurant with the lowest number of votes:\n",
            "Restaurant Name    Cantinho da Gula\n",
            "Votes                             0\n",
            "Name: 69, dtype: object\n",
            "\n",
            "Correlation between number of votes and rating: 0.31369058419541157\n"
          ]
        },
        {
          "output_type": "display_data",
          "data": {
            "text/plain": [
              "<Figure size 640x480 with 1 Axes>"
            ],
            "image/png": "[encoded data removed]"
          },
          "metadata": {}
        }
      ]
    },
    {
      "cell_type": "code",
      "source": [
        "import pandas as pd\n",
        "\n",
        "# Load the dataset into a DataFrame\n",
        "df = pd.read_csv('/content/Dataset .csv')  # Replace 'your_dataset.csv' with the actual path to your dataset\n",
        "\n",
        "# Filter out unrealistic values in 'Average Cost for two' column\n",
        "threshold = 10000  # Adjust threshold as needed\n",
        "df = df[df['Average Cost for two'] <= threshold]\n",
        "\n",
        "# Convert 'Yes' and 'No' values to boolean values (True and False)\n",
        "df['Has Online delivery'] = df['Has Online delivery'].map({'Yes': True, 'No': False})\n",
        "df['Has Table booking'] = df['Has Table booking'].map({'Yes': True, 'No': False})\n",
        "\n",
        "# Analyze the relationship between average cost for two and availability of online delivery and table booking\n",
        "price_delivery_table = df.groupby('Average Cost for two')[['Has Online delivery', 'Has Table booking']].mean()\n",
        "\n",
        "print(\"Relationship between Average Cost for two and Online Delivery & Table Booking:\")\n",
        "print(price_delivery_table)\n",
        "\n",
        "# Determine if higher-priced restaurants are more likely to offer these services\n",
        "higher_price_range = df['Average Cost for two'].max()\n",
        "lower_price_range = df['Average Cost for two'].min()\n",
        "\n",
        "higher_price_delivery = df[df['Average Cost for two'] == higher_price_range]['Has Online delivery'].mean()\n",
        "lower_price_delivery = df[df['Average Cost for two'] == lower_price_range]['Has Online delivery'].mean()\n",
        "\n",
        "higher_price_table = df[df['Average Cost for two'] == higher_price_range]['Has Table booking'].mean()\n",
        "lower_price_table = df[df['Average Cost for two'] == lower_price_range]['Has Table booking'].mean()\n",
        "\n",
        "print(\"\\nAvailability of Online Delivery at Higher-priced Restaurants:\", higher_price_delivery)\n",
        "print(\"Availability of Online Delivery at Lower-priced Restaurants:\", lower_price_delivery)\n",
        "\n",
        "print(\"\\nAvailability of Table Booking at Higher-priced Restaurants:\", higher_price_table)\n",
        "print(\"Availability of Table Booking at Lower-priced Restaurants:\", lower_price_table)\n"
      ],
      "metadata": {
        "colab": {
          "base_uri": "https://localhost:8080/"
        },
        "id": "FwiI0U12R9FG",
        "outputId": "2ebf5c22-7670-4f23-e5e2-9ac1e68c9531"
      },
      "execution_count": null,
      "outputs": [
        {
          "output_type": "stream",
          "name": "stdout",
          "text": [
            "Relationship between Average Cost for two and Online Delivery & Table Booking:\n",
            "                      Has Online delivery  Has Table booking\n",
            "Average Cost for two                                        \n",
            "0                                     0.0                0.0\n",
            "7                                     0.0                0.0\n",
            "10                                    0.0                0.0\n",
            "15                                    0.0                0.0\n",
            "20                                    0.0                0.0\n",
            "...                                   ...                ...\n",
            "5500                                  0.0                1.0\n",
            "6000                                  0.0                1.0\n",
            "6500                                  0.0                0.0\n",
            "7000                                  0.0                0.0\n",
            "8000                                  0.0                1.0\n",
            "\n",
            "[128 rows x 2 columns]\n",
            "\n",
            "Availability of Online Delivery at Higher-priced Restaurants: 0.0\n",
            "Availability of Online Delivery at Lower-priced Restaurants: 0.0\n",
            "\n",
            "Availability of Table Booking at Higher-priced Restaurants: 1.0\n",
            "Availability of Table Booking at Lower-priced Restaurants: 0.0\n"
          ]
        }
      ]
    }
  ]
}