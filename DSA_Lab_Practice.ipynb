{
  "nbformat": 4,
  "nbformat_minor": 0,
  "metadata": {
    "colab": {
      "provenance": [],
      "authorship_tag": "ABX9TyPwQ2S/mZQkvIMo5rk61Yu1",
      "include_colab_link": true
    },
    "kernelspec": {
      "name": "python3",
      "display_name": "Python 3"
    },
    "language_info": {
      "name": "python"
    }
  },
  "cells": [
    {
      "cell_type": "markdown",
      "metadata": {
        "id": "view-in-github",
        "colab_type": "text"
      },
      "source": [
        "<a href=\"https://colab.research.google.com/github/Stephenthomas10/Projects-and-implementations/blob/main/DSA_Lab_Practice.ipynb\" target=\"_parent\"><img src=\"https://colab.research.google.com/assets/colab-badge.svg\" alt=\"Open In Colab\"/></a>"
      ]
    },
    {
      "cell_type": "code",
      "execution_count": null,
      "metadata": {
        "colab": {
          "base_uri": "https://localhost:8080/"
        },
        "id": "Z2oLwJ3Ko8LJ",
        "outputId": "1e828f21-c35a-4bec-9974-cd0330d31c9d"
      },
      "outputs": [
        {
          "output_type": "stream",
          "name": "stdout",
          "text": [
            "10\n"
          ]
        }
      ],
      "source": [
        "#array imp of stack\n",
        "class Stack:\n",
        "  def __init__(self,maxsize):\n",
        "    self.max=maxsize\n",
        "    self.stack=[None]*maxsize\n",
        "    self.top=-1\n",
        "\n",
        "  def push(self,v):\n",
        "    if (self.isFull()):\n",
        "      print(\"overflow\")\n",
        "    else:\n",
        "      self.top=self.top+1\n",
        "      self.stack[self.top]=v\n",
        "\n",
        "  def isFull(self):\n",
        "    return self.top==self.max-1\n",
        "\n",
        "  def pop(self,v):\n",
        "    if(self.isEmpty()):\n",
        "      print(\"underflow\")\n",
        "    else:\n",
        "      v=self.stack[self.top]\n",
        "      self.top-=1\n",
        "      return v\n",
        "\n",
        "  def isEmpty(self):\n",
        "    return self.top==-1\n",
        "\n",
        "  def disp(self):\n",
        "    for i in range(self.top,-1,-1):\n",
        "      print(self.stack[i])\n",
        "\n",
        "maxsize=5\n",
        "stack=Stack(maxsize)\n",
        "stack.push(10)\n",
        "stack.disp()\n",
        "\n",
        "\n",
        "\n",
        "\n",
        "\n"
      ]
    },
    {
      "cell_type": "code",
      "source": [
        "ops=set(['+','-','*','/','(',')','^'])\n",
        "priority={'+':1,'-':1,'*':2,'/':2,'^':3}\n",
        "def inftopref(exp):\n",
        "  stack=[]\n",
        "  for i in exp:\n",
        "    if i not in ops:\n",
        "      op=op+i\n",
        "    elif\n"
      ],
      "metadata": {
        "colab": {
          "base_uri": "https://localhost:8080/",
          "height": 141
        },
        "id": "Kv8LCtk0pTR2",
        "outputId": "e9639a76-4426-471f-a2c8-0b9a8f8b3227"
      },
      "execution_count": null,
      "outputs": [
        {
          "output_type": "error",
          "ename": "SyntaxError",
          "evalue": "ignored",
          "traceback": [
            "\u001b[0;36m  File \u001b[0;32m\"<ipython-input-6-6107bc88826a>\"\u001b[0;36m, line \u001b[0;32m6\u001b[0m\n\u001b[0;31m    if i not in ops:\u001b[0m\n\u001b[0m                    ^\u001b[0m\n\u001b[0;31mSyntaxError\u001b[0m\u001b[0;31m:\u001b[0m incomplete input\n"
          ]
        }
      ]
    },
    {
      "cell_type": "code",
      "source": [
        "operators=set(['+','-','*','/','(',')','^'])\n",
        "priority={'+':1,'-':1,'*':2,'/':2,'^':3}\n",
        "def infixtopostfix(expression):\n",
        "    stack=[]\n",
        "    op=''\n",
        "    for character in expression:\n",
        "        if character not in operators:\n",
        "            op+=character\n",
        "        else:\n",
        "            while stack and stack[-1]!='(' and priority[character]<=priority[stack[-1]]:\n",
        "                op+=stack.pop()\n",
        "            stack.append(character)\n",
        "    while stack!=0:\n",
        "        op+=stack.pop()\n",
        "    return op\n",
        "expression=input(\"Enter the infix expression:\")\n",
        "print(\"infix notation\",expression)\n",
        "print(infixtopostfix(expression))"
      ],
      "metadata": {
        "colab": {
          "base_uri": "https://localhost:8080/"
        },
        "id": "b5fa7CVXdFot",
        "outputId": "2cf4d819-718f-4302-9e54-3e1dd4e0d61d"
      },
      "execution_count": null,
      "outputs": [
        {
          "output_type": "stream",
          "name": "stdout",
          "text": [
            "Enter the infix expression:a+b-c\n",
            "infix notation a+b-c\n",
            "postfix notation ab+c-\n"
          ]
        }
      ]
    },
    {
      "cell_type": "code",
      "source": [
        "class LinearQueue:\n",
        "    def __init__(self, capacity):\n",
        "        self.capacity = capacity\n",
        "        self.queue = []\n",
        "\n",
        "    def is_empty(self):\n",
        "        return len(self.queue) == 0\n",
        "\n",
        "    def is_full(self):\n",
        "        return len(self.queue) == self.capacity\n",
        "\n",
        "    def enqueue(self, item):\n",
        "        if self.is_full():\n",
        "            print(\"Queue is full. Cannot enqueue.\")\n",
        "        else:\n",
        "            self.queue.append(item)\n",
        "            print(f\"Enqueued: {item}\")\n",
        "\n",
        "    def dequeue(self):\n",
        "        if self.is_empty():\n",
        "            print(\"Queue is empty. Cannot dequeue.\")\n",
        "            return None\n",
        "        else:\n",
        "            item = self.queue.pop(0)\n",
        "            print(f\"Dequeued: {item}\")\n",
        "            return item\n",
        "\n",
        "    def peek(self):\n",
        "        if self.is_empty():\n",
        "            print(\"Queue is empty. Cannot peek.\")\n",
        "            return None\n",
        "        else:\n",
        "            return self.queue[0]\n",
        "\n",
        "    def display(self):\n",
        "        print(\"Queue:\", self.queue)\n",
        "\n",
        "\n",
        "# Example usage:\n",
        "queue = LinearQueue(5)\n",
        "\n",
        "queue.enqueue(1)\n",
        "queue.enqueue(2)\n",
        "queue.enqueue(3)\n",
        "\n",
        "queue.display()\n",
        "\n",
        "dequeued_item = queue.dequeue()\n",
        "print(\"Dequeued item:\", dequeued_item)\n",
        "\n",
        "queue.display()\n",
        "\n",
        "print(\"Front of the queue:\", queue.peek())\n"
      ],
      "metadata": {
        "id": "2zLnn_P5br_i",
        "colab": {
          "base_uri": "https://localhost:8080/"
        },
        "outputId": "25ad427b-0cd4-469a-8821-6dc71078ec93"
      },
      "execution_count": null,
      "outputs": [
        {
          "output_type": "stream",
          "name": "stdout",
          "text": [
            "Enqueued: 1\n",
            "Enqueued: 2\n",
            "Enqueued: 3\n",
            "Queue: [1, 2, 3]\n",
            "Dequeued: 1\n",
            "Dequeued item: 1\n",
            "Queue: [2, 3]\n",
            "Front of the queue: 2\n"
          ]
        }
      ]
    }
  ]
}