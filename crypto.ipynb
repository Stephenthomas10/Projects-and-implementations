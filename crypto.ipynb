{
  "nbformat": 4,
  "nbformat_minor": 0,
  "metadata": {
    "colab": {
      "provenance": [],
      "authorship_tag": "ABX9TyP/46iwPtTkX3658DCP+cZe",
      "include_colab_link": true
    },
    "kernelspec": {
      "name": "python3",
      "display_name": "Python 3"
    },
    "language_info": {
      "name": "python"
    }
  },
  "cells": [
    {
      "cell_type": "markdown",
      "metadata": {
        "id": "view-in-github",
        "colab_type": "text"
      },
      "source": [
        "<a href=\"https://colab.research.google.com/github/Stephenthomas10/Projects-and-implementations/blob/main/crypto.ipynb\" target=\"_parent\"><img src=\"https://colab.research.google.com/assets/colab-badge.svg\" alt=\"Open In Colab\"/></a>"
      ]
    },
    {
      "cell_type": "code",
      "execution_count": null,
      "metadata": {
        "colab": {
          "base_uri": "https://localhost:8080/"
        },
        "id": "Ohm2qvkH3FKE",
        "outputId": "cba25f9c-b009-4827-ad1d-8c0b503177fe"
      },
      "outputs": [
        {
          "output_type": "stream",
          "name": "stdout",
          "text": [
            "Ciphertext: CTOOX VXGOQ\n",
            "Plaintext: HELLO WORLD\n"
          ]
        }
      ],
      "source": [
        "# Simple cryptography program using linear transformation in Python\n",
        "\n",
        "def encrypt(message, key):\n",
        "    \"\"\"Encrypt a message using a linear transformation\"\"\"\n",
        "    ciphertext = \"\"\n",
        "    for char in message:\n",
        "        if char.isalpha():\n",
        "            char_code = ord(char.upper()) - 65\n",
        "            new_code = (char_code * key[0] + key[1]) % 26\n",
        "            new_char = chr(new_code + 65)\n",
        "            ciphertext += new_char\n",
        "        else:\n",
        "            ciphertext += char\n",
        "    return ciphertext\n",
        "\n",
        "def decrypt(ciphertext, key):\n",
        "    \"\"\"Decrypt a ciphertext using the inverse of the linear transformation\"\"\"\n",
        "    plaintext = \"\"\n",
        "    for char in ciphertext:\n",
        "        if char.isalpha():\n",
        "            char_code = ord(char.upper()) - 65\n",
        "            # Calculate the modular inverse of key[0] using the extended Euclidean algorithm\n",
        "            inverse = 0\n",
        "            for i in range(26):\n",
        "                if (i * key[0]) % 26 == 1:\n",
        "                    inverse = i\n",
        "                    break\n",
        "            new_code = (inverse * (char_code - key[1])) % 26\n",
        "            new_char = chr(new_code + 65)\n",
        "            plaintext += new_char\n",
        "        else:\n",
        "            plaintext += char\n",
        "    return plaintext\n",
        "\n",
        "# Example usage:\n",
        "message = \"HELLO WORLD\"\n",
        "key = (3, 7)  # Example key: multiply by 3, add 7\n",
        "ciphertext = encrypt(message, key)\n",
        "print(\"Ciphertext:\", ciphertext)\n",
        "plaintext = decrypt(ciphertext, key)\n",
        "print(\"Plaintext:\", plaintext)\n"
      ]
    },
    {
      "cell_type": "code",
      "source": [
        "import numpy as np\n",
        "import matplotlib.pyplot as plt\n",
        "\n",
        "# Define a 2D vector\n",
        "v = np.array([1, 1])\n",
        "\n",
        "# Define a transformation matrix\n",
        "A = np.array([[1, 2], [0, 1]])\n",
        "\n",
        "# Apply the transformation to the vector\n",
        "v_transformed = A.dot(v)\n",
        "\n",
        "# Plot the original and transformed vectors\n",
        "fig, ax = plt.subplots()\n",
        "ax.plot([0, v[0]], [0, v[1]], label='Original vector')\n",
        "ax.plot([0, v_transformed[0]], [0, v_transformed[1]], label='Transformed vector')\n",
        "ax.axis('equal')\n",
        "ax.legend()\n",
        "plt.show()"
      ],
      "metadata": {
        "colab": {
          "base_uri": "https://localhost:8080/",
          "height": 430
        },
        "id": "hkV--MpT5aEM",
        "outputId": "e2593df2-8be1-4b85-8138-01f6700a4e36"
      },
      "execution_count": null,
      "outputs": [
        {
          "output_type": "display_data",
          "data": {
            "text/plain": [
              "<Figure size 640x480 with 1 Axes>"
            ],
            "image/png": "[encoded data removed]"
          },
          "metadata": {}
        }
      ]
    }
  ]
}