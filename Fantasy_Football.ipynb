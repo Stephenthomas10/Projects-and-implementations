{
  "cells": [
    {
      "cell_type": "markdown",
      "metadata": {
        "id": "view-in-github",
        "colab_type": "text"
      },
      "source": [
        "<a href=\"https://colab.research.google.com/github/Stephenthomas10/Projects-and-implementations/blob/main/Fantasy_Football.ipynb\" target=\"_parent\"><img src=\"https://colab.research.google.com/assets/colab-badge.svg\" alt=\"Open In Colab\"/></a>"
      ]
    },
    {
      "cell_type": "code",
      "execution_count": null,
      "metadata": {
        "colab": {
          "base_uri": "https://localhost:8080/"
        },
        "id": "KDBevudnakz5",
        "outputId": "7d14d80b-7173-4fee-a4f3-260ffb9ff8d3"
      },
      "outputs": [
        {
          "output_type": "stream",
          "name": "stdout",
          "text": [
            "Collecting pulp\n",
            "  Downloading PuLP-3.0.2-py3-none-any.whl.metadata (6.7 kB)\n",
            "Requirement already satisfied: pandas in /usr/local/lib/python3.11/dist-packages (2.2.2)\n",
            "Collecting dfply\n",
            "  Downloading dfply-0.3.3-py3-none-any.whl.metadata (452 bytes)\n",
            "Requirement already satisfied: numpy>=1.23.2 in /usr/local/lib/python3.11/dist-packages (from pandas) (1.26.4)\n",
            "Requirement already satisfied: python-dateutil>=2.8.2 in /usr/local/lib/python3.11/dist-packages (from pandas) (2.8.2)\n",
            "Requirement already satisfied: pytz>=2020.1 in /usr/local/lib/python3.11/dist-packages (from pandas) (2025.1)\n",
            "Requirement already satisfied: tzdata>=2022.7 in /usr/local/lib/python3.11/dist-packages (from pandas) (2025.1)\n",
            "Requirement already satisfied: six>=1.5 in /usr/local/lib/python3.11/dist-packages (from python-dateutil>=2.8.2->pandas) (1.17.0)\n",
            "Downloading PuLP-3.0.2-py3-none-any.whl (17.7 MB)\n",
            "\u001b[2K   \u001b[90m━━━━━━━━━━━━━━━━━━━━━━━━━━━━━━━━━━━━━━━━\u001b[0m \u001b[32m17.7/17.7 MB\u001b[0m \u001b[31m46.8 MB/s\u001b[0m eta \u001b[36m0:00:00\u001b[0m\n",
            "\u001b[?25hDownloading dfply-0.3.3-py3-none-any.whl (612 kB)\n",
            "\u001b[2K   \u001b[90m━━━━━━━━━━━━━━━━━━━━━━━━━━━━━━━━━━━━━━━━\u001b[0m \u001b[32m612.4/612.4 kB\u001b[0m \u001b[31m15.7 MB/s\u001b[0m eta \u001b[36m0:00:00\u001b[0m\n",
            "\u001b[?25hInstalling collected packages: pulp, dfply\n",
            "Successfully installed dfply-0.3.3 pulp-3.0.2\n"
          ]
        }
      ],
      "source": [
        "# Install required libraries (if not already installed)\n",
        "!pip install pulp pandas dfply\n",
        "\n",
        "# Import necessary libraries\n",
        "import pulp\n",
        "import pandas as pd\n",
        "from dfply import *\n"
      ]
    },
    {
      "cell_type": "markdown",
      "metadata": {
        "id": "p2llpgAiakz-"
      },
      "source": [
        "## Data\n",
        "\n",
        "Import the Datasets"
      ]
    },
    {
      "cell_type": "code",
      "execution_count": null,
      "metadata": {
        "colab": {
          "base_uri": "https://localhost:8080/",
          "height": 535
        },
        "id": "HTC2PRCBak0B",
        "outputId": "9812879c-3da9-49f1-a4f3-ead1e341aa38"
      },
      "outputs": [
        {
          "output_type": "error",
          "ename": "ParserError",
          "evalue": "Error tokenizing data. C error: Expected 42 fields in line 14180, saw 49\n",
          "traceback": [
            "\u001b[0;31m---------------------------------------------------------------------------\u001b[0m",
            "\u001b[0;31mParserError\u001b[0m                               Traceback (most recent call last)",
            "\u001b[0;32m<ipython-input-3-59a486cb1a4e>\u001b[0m in \u001b[0;36m<cell line: 0>\u001b[0;34m()\u001b[0m\n\u001b[1;32m      2\u001b[0m \u001b[0;31m# path_to_files = \"C:\\\\Users\\\\Tom\\\\Documents\\\\Blog\\\\2021\\\\Fantasy Football\"\u001b[0m\u001b[0;34m\u001b[0m\u001b[0;34m\u001b[0m\u001b[0m\n\u001b[1;32m      3\u001b[0m \u001b[0;34m\u001b[0m\u001b[0m\n\u001b[0;32m----> 4\u001b[0;31m \u001b[0mgw_df\u001b[0m \u001b[0;34m=\u001b[0m \u001b[0mpd\u001b[0m\u001b[0;34m.\u001b[0m\u001b[0mread_csv\u001b[0m\u001b[0;34m(\u001b[0m\u001b[0;34m\"/content/merged_gw.csv\"\u001b[0m\u001b[0;34m)\u001b[0m\u001b[0;34m\u001b[0m\u001b[0;34m\u001b[0m\u001b[0m\n\u001b[0m\u001b[1;32m      5\u001b[0m \u001b[0mgw_df\u001b[0m\u001b[0;34m\u001b[0m\u001b[0;34m\u001b[0m\u001b[0m\n",
            "\u001b[0;32m/usr/local/lib/python3.11/dist-packages/pandas/io/parsers/readers.py\u001b[0m in \u001b[0;36mread_csv\u001b[0;34m(filepath_or_buffer, sep, delimiter, header, names, index_col, usecols, dtype, engine, converters, true_values, false_values, skipinitialspace, skiprows, skipfooter, nrows, na_values, keep_default_na, na_filter, verbose, skip_blank_lines, parse_dates, infer_datetime_format, keep_date_col, date_parser, date_format, dayfirst, cache_dates, iterator, chunksize, compression, thousands, decimal, lineterminator, quotechar, quoting, doublequote, escapechar, comment, encoding, encoding_errors, dialect, on_bad_lines, delim_whitespace, low_memory, memory_map, float_precision, storage_options, dtype_backend)\u001b[0m\n\u001b[1;32m   1024\u001b[0m     \u001b[0mkwds\u001b[0m\u001b[0;34m.\u001b[0m\u001b[0mupdate\u001b[0m\u001b[0;34m(\u001b[0m\u001b[0mkwds_defaults\u001b[0m\u001b[0;34m)\u001b[0m\u001b[0;34m\u001b[0m\u001b[0;34m\u001b[0m\u001b[0m\n\u001b[1;32m   1025\u001b[0m \u001b[0;34m\u001b[0m\u001b[0m\n\u001b[0;32m-> 1026\u001b[0;31m     \u001b[0;32mreturn\u001b[0m \u001b[0m_read\u001b[0m\u001b[0;34m(\u001b[0m\u001b[0mfilepath_or_buffer\u001b[0m\u001b[0;34m,\u001b[0m \u001b[0mkwds\u001b[0m\u001b[0;34m)\u001b[0m\u001b[0;34m\u001b[0m\u001b[0;34m\u001b[0m\u001b[0m\n\u001b[0m\u001b[1;32m   1027\u001b[0m \u001b[0;34m\u001b[0m\u001b[0m\n\u001b[1;32m   1028\u001b[0m \u001b[0;34m\u001b[0m\u001b[0m\n",
            "\u001b[0;32m/usr/local/lib/python3.11/dist-packages/pandas/io/parsers/readers.py\u001b[0m in \u001b[0;36m_read\u001b[0;34m(filepath_or_buffer, kwds)\u001b[0m\n\u001b[1;32m    624\u001b[0m \u001b[0;34m\u001b[0m\u001b[0m\n\u001b[1;32m    625\u001b[0m     \u001b[0;32mwith\u001b[0m \u001b[0mparser\u001b[0m\u001b[0;34m:\u001b[0m\u001b[0;34m\u001b[0m\u001b[0;34m\u001b[0m\u001b[0m\n\u001b[0;32m--> 626\u001b[0;31m         \u001b[0;32mreturn\u001b[0m \u001b[0mparser\u001b[0m\u001b[0;34m.\u001b[0m\u001b[0mread\u001b[0m\u001b[0;34m(\u001b[0m\u001b[0mnrows\u001b[0m\u001b[0;34m)\u001b[0m\u001b[0;34m\u001b[0m\u001b[0;34m\u001b[0m\u001b[0m\n\u001b[0m\u001b[1;32m    627\u001b[0m \u001b[0;34m\u001b[0m\u001b[0m\n\u001b[1;32m    628\u001b[0m \u001b[0;34m\u001b[0m\u001b[0m\n",
            "\u001b[0;32m/usr/local/lib/python3.11/dist-packages/pandas/io/parsers/readers.py\u001b[0m in \u001b[0;36mread\u001b[0;34m(self, nrows)\u001b[0m\n\u001b[1;32m   1921\u001b[0m                     \u001b[0mcolumns\u001b[0m\u001b[0;34m,\u001b[0m\u001b[0;34m\u001b[0m\u001b[0;34m\u001b[0m\u001b[0m\n\u001b[1;32m   1922\u001b[0m                     \u001b[0mcol_dict\u001b[0m\u001b[0;34m,\u001b[0m\u001b[0;34m\u001b[0m\u001b[0;34m\u001b[0m\u001b[0m\n\u001b[0;32m-> 1923\u001b[0;31m                 \u001b[0;34m)\u001b[0m \u001b[0;34m=\u001b[0m \u001b[0mself\u001b[0m\u001b[0;34m.\u001b[0m\u001b[0m_engine\u001b[0m\u001b[0;34m.\u001b[0m\u001b[0mread\u001b[0m\u001b[0;34m(\u001b[0m  \u001b[0;31m# type: ignore[attr-defined]\u001b[0m\u001b[0;34m\u001b[0m\u001b[0;34m\u001b[0m\u001b[0m\n\u001b[0m\u001b[1;32m   1924\u001b[0m                     \u001b[0mnrows\u001b[0m\u001b[0;34m\u001b[0m\u001b[0;34m\u001b[0m\u001b[0m\n\u001b[1;32m   1925\u001b[0m                 )\n",
            "\u001b[0;32m/usr/local/lib/python3.11/dist-packages/pandas/io/parsers/c_parser_wrapper.py\u001b[0m in \u001b[0;36mread\u001b[0;34m(self, nrows)\u001b[0m\n\u001b[1;32m    232\u001b[0m         \u001b[0;32mtry\u001b[0m\u001b[0;34m:\u001b[0m\u001b[0;34m\u001b[0m\u001b[0;34m\u001b[0m\u001b[0m\n\u001b[1;32m    233\u001b[0m             \u001b[0;32mif\u001b[0m \u001b[0mself\u001b[0m\u001b[0;34m.\u001b[0m\u001b[0mlow_memory\u001b[0m\u001b[0;34m:\u001b[0m\u001b[0;34m\u001b[0m\u001b[0;34m\u001b[0m\u001b[0m\n\u001b[0;32m--> 234\u001b[0;31m                 \u001b[0mchunks\u001b[0m \u001b[0;34m=\u001b[0m \u001b[0mself\u001b[0m\u001b[0;34m.\u001b[0m\u001b[0m_reader\u001b[0m\u001b[0;34m.\u001b[0m\u001b[0mread_low_memory\u001b[0m\u001b[0;34m(\u001b[0m\u001b[0mnrows\u001b[0m\u001b[0;34m)\u001b[0m\u001b[0;34m\u001b[0m\u001b[0;34m\u001b[0m\u001b[0m\n\u001b[0m\u001b[1;32m    235\u001b[0m                 \u001b[0;31m# destructive to chunks\u001b[0m\u001b[0;34m\u001b[0m\u001b[0;34m\u001b[0m\u001b[0m\n\u001b[1;32m    236\u001b[0m                 \u001b[0mdata\u001b[0m \u001b[0;34m=\u001b[0m \u001b[0m_concatenate_chunks\u001b[0m\u001b[0;34m(\u001b[0m\u001b[0mchunks\u001b[0m\u001b[0;34m)\u001b[0m\u001b[0;34m\u001b[0m\u001b[0;34m\u001b[0m\u001b[0m\n",
            "\u001b[0;32mparsers.pyx\u001b[0m in \u001b[0;36mpandas._libs.parsers.TextReader.read_low_memory\u001b[0;34m()\u001b[0m\n",
            "\u001b[0;32mparsers.pyx\u001b[0m in \u001b[0;36mpandas._libs.parsers.TextReader._read_rows\u001b[0;34m()\u001b[0m\n",
            "\u001b[0;32mparsers.pyx\u001b[0m in \u001b[0;36mpandas._libs.parsers.TextReader._tokenize_rows\u001b[0;34m()\u001b[0m\n",
            "\u001b[0;32mparsers.pyx\u001b[0m in \u001b[0;36mpandas._libs.parsers.TextReader._check_tokenize_status\u001b[0;34m()\u001b[0m\n",
            "\u001b[0;32mparsers.pyx\u001b[0m in \u001b[0;36mpandas._libs.parsers.raise_parser_error\u001b[0;34m()\u001b[0m\n",
            "\u001b[0;31mParserError\u001b[0m: Error tokenizing data. C error: Expected 42 fields in line 14180, saw 49\n"
          ]
        }
      ],
      "source": [
        "## data from https://github.com/vaastav/Fantasy-Premier-League\n",
        "# path_to_files = \"C:\\\\Users\\\\Tom\\\\Documents\\\\Blog\\\\2021\\\\Fantasy Football\"\n",
        "\n",
        "gw_df = pd.read_csv(\"/content/merged_gw.csv\")\n",
        "gw_df"
      ]
    },
    {
      "cell_type": "code",
      "source": [
        "with open(\"/content/merged_gw.csv\", \"r\", encoding=\"utf-8\") as f:\n",
        "    for i in range(10):  # Print first 10 lines\n",
        "        print(f.readline())\n"
      ],
      "metadata": {
        "colab": {
          "base_uri": "https://localhost:8080/"
        },
        "id": "dS5wGq_nbxqJ",
        "outputId": "f7598518-753b-44d4-bf3c-0ec8c0bad6de"
      },
      "execution_count": null,
      "outputs": [
        {
          "output_type": "stream",
          "name": "stdout",
          "text": [
            "name,position,team,xP,assists,bonus,bps,clean_sheets,creativity,element,expected_assists,expected_goal_involvements,expected_goals,expected_goals_conceded,fixture,goals_conceded,goals_scored,ict_index,influence,kickoff_time,minutes,modified,opponent_team,own_goals,penalties_missed,penalties_saved,red_cards,round,saves,selected,starts,team_a_score,team_h_score,threat,total_points,transfers_balance,transfers_in,transfers_out,value,was_home,yellow_cards,GW\n",
            "\n",
            "Alex Scott,MID,Bournemouth,1.6,0,0,11,0,12.8,77,0.01,0.01,0.00,1.02,6,1,0,3.6,22.8,2024-08-17T14:00:00Z,62,False,16,0,0,0,0,1,0,4339,1,1,1,0.0,2,0,0,0,50,False,0,1\n",
            "\n",
            "Carlos Miguel dos Santos Pereira,GK,Nott'm Forest,2.2,0,0,0,0,0.0,427,0.00,0.00,0.00,0.00,6,0,0,0.0,0.0,2024-08-17T14:00:00Z,0,False,3,0,0,0,0,1,0,33324,0,1,1,0.0,0,0,0,0,45,True,0,1\n",
            "\n",
            "Tomiyasu Takehiro,DEF,Arsenal,0.0,0,0,0,0,0.0,22,0.00,0.00,0.00,0.00,2,0,0,0.0,0.0,2024-08-17T14:00:00Z,0,False,20,0,0,0,0,1,0,8462,0,0,2,0.0,0,0,0,0,50,True,0,1\n",
            "\n",
            "Malcolm Ebiowei,MID,Crystal Palace,0.0,0,0,0,0,0.0,197,0.00,0.00,0.00,0.00,8,0,0,0.0,0.0,2024-08-18T13:00:00Z,0,False,4,0,0,0,0,1,0,716,0,1,2,0.0,0,0,0,0,45,False,0,1\n",
            "\n",
            "Ben Brereton Díaz,MID,Southampton,1.0,0,0,-2,0,14.0,584,0.02,0.32,0.30,0.25,5,1,0,3.3,2.6,2024-08-17T14:00:00Z,70,False,15,0,0,0,0,1,0,66244,1,0,1,16.0,1,0,0,0,55,False,1,1\n",
            "\n",
            "Pau Torres,DEF,Aston Villa,1.9,0,0,17,0,1.9,52,0.01,0.01,0.00,2.46,7,1,0,3.1,29.2,2024-08-17T16:30:00Z,90,False,19,0,0,0,0,1,0,122710,1,2,1,0.0,2,0,0,0,45,False,0,1\n",
            "\n",
            "Joel Ward,DEF,Crystal Palace,1.9,0,0,0,0,0.0,215,0.00,0.00,0.00,0.00,8,0,0,0.0,0.0,2024-08-18T13:00:00Z,0,False,4,0,0,0,0,1,0,12469,0,1,2,0.0,0,0,0,0,45,False,0,1\n",
            "\n",
            "Will Lankshear,FWD,Spurs,1.5,0,0,0,0,0.0,609,0.00,0.00,0.00,0.00,10,0,0,0.0,0.0,2024-08-19T19:00:00Z,0,False,11,0,0,0,0,1,0,17747,0,1,1,0.0,0,0,0,0,45,False,0,1\n",
            "\n",
            "Hwang Hee-chan,MID,Wolves,1.3,0,0,14,0,16.3,550,0.11,0.11,0.00,1.24,2,2,0,2.6,6.0,2024-08-17T14:00:00Z,90,False,1,0,0,0,0,1,0,83019,1,0,2,4.0,2,0,0,0,65,False,0,1\n",
            "\n"
          ]
        }
      ]
    },
    {
      "cell_type": "code",
      "source": [],
      "metadata": {
        "id": "izyumW-akuGa"
      },
      "execution_count": null,
      "outputs": []
    },
    {
      "cell_type": "markdown",
      "metadata": {
        "id": "iQgYkXNMak0E"
      },
      "source": [
        "- Remove all unnecessary columns\n",
        "- Subset to every player who is there from GW1\n",
        "- Get the final score of those players\n"
      ]
    },
    {
      "cell_type": "code",
      "execution_count": null,
      "metadata": {
        "id": "QWBjoDxCak0G",
        "outputId": "01aafd67-654a-4760-ac93-bc11327797f6"
      },
      "outputs": [
        {
          "data": {
            "text/html": [
              "<div>\n",
              "<style scoped>\n",
              "    .dataframe tbody tr th:only-of-type {\n",
              "        vertical-align: middle;\n",
              "    }\n",
              "\n",
              "    .dataframe tbody tr th {\n",
              "        vertical-align: top;\n",
              "    }\n",
              "\n",
              "    .dataframe thead th {\n",
              "        text-align: right;\n",
              "    }\n",
              "</style>\n",
              "<table border=\"1\" class=\"dataframe\">\n",
              "  <thead>\n",
              "    <tr style=\"text-align: right;\">\n",
              "      <th></th>\n",
              "      <th>name</th>\n",
              "      <th>value</th>\n",
              "      <th>finalScore</th>\n",
              "    </tr>\n",
              "  </thead>\n",
              "  <tbody>\n",
              "    <tr>\n",
              "      <th>0</th>\n",
              "      <td>Aaron_Cresswell_376</td>\n",
              "      <td>50</td>\n",
              "      <td>79</td>\n",
              "    </tr>\n",
              "    <tr>\n",
              "      <th>1</th>\n",
              "      <td>Aaron_Lennon_430</td>\n",
              "      <td>50</td>\n",
              "      <td>15</td>\n",
              "    </tr>\n",
              "    <tr>\n",
              "      <th>2</th>\n",
              "      <td>Aaron_Mooy_516</td>\n",
              "      <td>50</td>\n",
              "      <td>80</td>\n",
              "    </tr>\n",
              "    <tr>\n",
              "      <th>3</th>\n",
              "      <td>Aaron_Ramsdale_494</td>\n",
              "      <td>45</td>\n",
              "      <td>126</td>\n",
              "    </tr>\n",
              "    <tr>\n",
              "      <th>4</th>\n",
              "      <td>Aaron_Wan-Bissaka_122</td>\n",
              "      <td>55</td>\n",
              "      <td>127</td>\n",
              "    </tr>\n",
              "    <tr>\n",
              "      <th>...</th>\n",
              "      <td>...</td>\n",
              "      <td>...</td>\n",
              "      <td>...</td>\n",
              "    </tr>\n",
              "    <tr>\n",
              "      <th>521</th>\n",
              "      <td>Yoshinori_Muto_260</td>\n",
              "      <td>55</td>\n",
              "      <td>9</td>\n",
              "    </tr>\n",
              "    <tr>\n",
              "      <th>522</th>\n",
              "      <td>Youri_Tielemans_448</td>\n",
              "      <td>65</td>\n",
              "      <td>117</td>\n",
              "    </tr>\n",
              "    <tr>\n",
              "      <th>523</th>\n",
              "      <td>Yves_Bissouma_53</td>\n",
              "      <td>50</td>\n",
              "      <td>39</td>\n",
              "    </tr>\n",
              "    <tr>\n",
              "      <th>524</th>\n",
              "      <td>Çaglar_Söyüncü_164</td>\n",
              "      <td>45</td>\n",
              "      <td>120</td>\n",
              "    </tr>\n",
              "    <tr>\n",
              "      <th>525</th>\n",
              "      <td>Ørjan_Nyland_27</td>\n",
              "      <td>45</td>\n",
              "      <td>15</td>\n",
              "    </tr>\n",
              "  </tbody>\n",
              "</table>\n",
              "<p>526 rows × 3 columns</p>\n",
              "</div>"
            ],
            "text/plain": [
              "                      name  value  finalScore\n",
              "0      Aaron_Cresswell_376     50          79\n",
              "1         Aaron_Lennon_430     50          15\n",
              "2           Aaron_Mooy_516     50          80\n",
              "3       Aaron_Ramsdale_494     45         126\n",
              "4    Aaron_Wan-Bissaka_122     55         127\n",
              "..                     ...    ...         ...\n",
              "521     Yoshinori_Muto_260     55           9\n",
              "522    Youri_Tielemans_448     65         117\n",
              "523       Yves_Bissouma_53     50          39\n",
              "524     Çaglar_Söyüncü_164     45         120\n",
              "525        Ørjan_Nyland_27     45          15\n",
              "\n",
              "[526 rows x 3 columns]"
            ]
          },
          "execution_count": 3,
          "metadata": {},
          "output_type": "execute_result"
        }
      ],
      "source": [
        "## Remove all unnecessary columns\n",
        "gw_trim = gw_df[[\"name\", \"total_points\", \"GW\", \"value\"]]\n",
        "\n",
        "## Dfply tutorial\n",
        "## https://towardsdatascience.com/dplyr-style-data-manipulation-with-pipes-in-python-380dcb137000\n",
        "## Dfply docs\n",
        "## https://github.com/kieferk/dfply\n",
        "\n",
        "\n",
        "## Add a column containing the final score of each player\n",
        "gw_trim = (gw_trim >>\n",
        "    group_by(X.name) >>\n",
        "    mutate(finalScore = X.total_points.sum()) >>\n",
        "    ungroup()\n",
        "       )\n",
        "\n",
        "# Just subset to GW1 rows - this gives us their initial price\n",
        "gw_trim = gw_trim[gw_trim[\"GW\"] == 1]\n",
        "gw_final = gw_trim.drop([\"total_points\", \"GW\"], 1)\n",
        "\n",
        "\n",
        "gw_final"
      ]
    },
    {
      "cell_type": "markdown",
      "metadata": {
        "id": "sdBHm-iBak0I"
      },
      "source": [
        "- Add second dataset and combine with price, pos, and team"
      ]
    },
    {
      "cell_type": "code",
      "execution_count": null,
      "metadata": {
        "id": "5rFYPlzdak0K",
        "outputId": "917c66b1-3ce5-4f5f-dc8c-06a5d1ed8355"
      },
      "outputs": [
        {
          "data": {
            "text/html": [
              "<div>\n",
              "<style scoped>\n",
              "    .dataframe tbody tr th:only-of-type {\n",
              "        vertical-align: middle;\n",
              "    }\n",
              "\n",
              "    .dataframe tbody tr th {\n",
              "        vertical-align: top;\n",
              "    }\n",
              "\n",
              "    .dataframe thead th {\n",
              "        text-align: right;\n",
              "    }\n",
              "</style>\n",
              "<table border=\"1\" class=\"dataframe\">\n",
              "  <thead>\n",
              "    <tr style=\"text-align: right;\">\n",
              "      <th></th>\n",
              "      <th>first_name</th>\n",
              "      <th>second_name</th>\n",
              "      <th>element_type</th>\n",
              "      <th>id</th>\n",
              "      <th>team</th>\n",
              "    </tr>\n",
              "  </thead>\n",
              "  <tbody>\n",
              "    <tr>\n",
              "      <th>0</th>\n",
              "      <td>Shkodran</td>\n",
              "      <td>Mustafi</td>\n",
              "      <td>2</td>\n",
              "      <td>1</td>\n",
              "      <td>1</td>\n",
              "    </tr>\n",
              "    <tr>\n",
              "      <th>1</th>\n",
              "      <td>Héctor</td>\n",
              "      <td>Bellerín</td>\n",
              "      <td>2</td>\n",
              "      <td>2</td>\n",
              "      <td>1</td>\n",
              "    </tr>\n",
              "    <tr>\n",
              "      <th>2</th>\n",
              "      <td>Sead</td>\n",
              "      <td>Kolasinac</td>\n",
              "      <td>2</td>\n",
              "      <td>3</td>\n",
              "      <td>1</td>\n",
              "    </tr>\n",
              "    <tr>\n",
              "      <th>3</th>\n",
              "      <td>Ainsley</td>\n",
              "      <td>Maitland-Niles</td>\n",
              "      <td>2</td>\n",
              "      <td>4</td>\n",
              "      <td>1</td>\n",
              "    </tr>\n",
              "    <tr>\n",
              "      <th>4</th>\n",
              "      <td>Sokratis</td>\n",
              "      <td>Papastathopoulos</td>\n",
              "      <td>2</td>\n",
              "      <td>5</td>\n",
              "      <td>1</td>\n",
              "    </tr>\n",
              "    <tr>\n",
              "      <th>...</th>\n",
              "      <td>...</td>\n",
              "      <td>...</td>\n",
              "      <td>...</td>\n",
              "      <td>...</td>\n",
              "      <td>...</td>\n",
              "    </tr>\n",
              "    <tr>\n",
              "      <th>661</th>\n",
              "      <td>Oskar</td>\n",
              "      <td>Buur</td>\n",
              "      <td>2</td>\n",
              "      <td>587</td>\n",
              "      <td>20</td>\n",
              "    </tr>\n",
              "    <tr>\n",
              "      <th>662</th>\n",
              "      <td>Ryan</td>\n",
              "      <td>Giles</td>\n",
              "      <td>2</td>\n",
              "      <td>607</td>\n",
              "      <td>20</td>\n",
              "    </tr>\n",
              "    <tr>\n",
              "      <th>663</th>\n",
              "      <td>Bruno André</td>\n",
              "      <td>Cavaco Jordao</td>\n",
              "      <td>3</td>\n",
              "      <td>609</td>\n",
              "      <td>20</td>\n",
              "    </tr>\n",
              "    <tr>\n",
              "      <th>664</th>\n",
              "      <td>Daniel</td>\n",
              "      <td>Castelo Podence</td>\n",
              "      <td>3</td>\n",
              "      <td>619</td>\n",
              "      <td>20</td>\n",
              "    </tr>\n",
              "    <tr>\n",
              "      <th>665</th>\n",
              "      <td>Leonardo</td>\n",
              "      <td>Campana</td>\n",
              "      <td>4</td>\n",
              "      <td>652</td>\n",
              "      <td>20</td>\n",
              "    </tr>\n",
              "  </tbody>\n",
              "</table>\n",
              "<p>666 rows × 5 columns</p>\n",
              "</div>"
            ],
            "text/plain": [
              "      first_name       second_name  element_type   id  team\n",
              "0       Shkodran           Mustafi             2    1     1\n",
              "1         Héctor          Bellerín             2    2     1\n",
              "2           Sead         Kolasinac             2    3     1\n",
              "3        Ainsley    Maitland-Niles             2    4     1\n",
              "4       Sokratis  Papastathopoulos             2    5     1\n",
              "..           ...               ...           ...  ...   ...\n",
              "661        Oskar              Buur             2  587    20\n",
              "662         Ryan             Giles             2  607    20\n",
              "663  Bruno André     Cavaco Jordao             3  609    20\n",
              "664       Daniel   Castelo Podence             3  619    20\n",
              "665     Leonardo           Campana             4  652    20\n",
              "\n",
              "[666 rows x 5 columns]"
            ]
          },
          "execution_count": 4,
          "metadata": {},
          "output_type": "execute_result"
        }
      ],
      "source": [
        "pl_df = pd.read_csv(\"players_raw.csv\")\n",
        "pl_trim = pl_df[[\"first_name\",  \"second_name\", \"element_type\",  \"id\",  \"team\"]]\n",
        "pl_trim"
      ]
    },
    {
      "cell_type": "code",
      "execution_count": null,
      "metadata": {
        "id": "aJy9xtfnak0L",
        "outputId": "936c5f2f-2fe6-4df2-bdb5-35632bd6a728"
      },
      "outputs": [
        {
          "name": "stderr",
          "output_type": "stream",
          "text": [
            "<ipython-input-5-eb02152aadf8>:1: SettingWithCopyWarning: \n",
            "A value is trying to be set on a copy of a slice from a DataFrame.\n",
            "Try using .loc[row_indexer,col_indexer] = value instead\n",
            "\n",
            "See the caveats in the documentation: https://pandas.pydata.org/pandas-docs/stable/user_guide/indexing.html#returning-a-view-versus-a-copy\n",
            "  pl_trim[\"id\"] = pl_trim.loc[:,\"id\"].astype(str)\n"
          ]
        },
        {
          "data": {
            "text/html": [
              "<div>\n",
              "<style scoped>\n",
              "    .dataframe tbody tr th:only-of-type {\n",
              "        vertical-align: middle;\n",
              "    }\n",
              "\n",
              "    .dataframe tbody tr th {\n",
              "        vertical-align: top;\n",
              "    }\n",
              "\n",
              "    .dataframe thead th {\n",
              "        text-align: right;\n",
              "    }\n",
              "</style>\n",
              "<table border=\"1\" class=\"dataframe\">\n",
              "  <thead>\n",
              "    <tr style=\"text-align: right;\">\n",
              "      <th></th>\n",
              "      <th>element_type</th>\n",
              "      <th>team</th>\n",
              "      <th>name</th>\n",
              "      <th>cleanName</th>\n",
              "    </tr>\n",
              "  </thead>\n",
              "  <tbody>\n",
              "    <tr>\n",
              "      <th>0</th>\n",
              "      <td>2</td>\n",
              "      <td>1</td>\n",
              "      <td>Shkodran_Mustafi_1</td>\n",
              "      <td>Shkodran Mustafi</td>\n",
              "    </tr>\n",
              "    <tr>\n",
              "      <th>1</th>\n",
              "      <td>2</td>\n",
              "      <td>1</td>\n",
              "      <td>Héctor_Bellerín_2</td>\n",
              "      <td>Héctor Bellerín</td>\n",
              "    </tr>\n",
              "    <tr>\n",
              "      <th>2</th>\n",
              "      <td>2</td>\n",
              "      <td>1</td>\n",
              "      <td>Sead_Kolasinac_3</td>\n",
              "      <td>Sead Kolasinac</td>\n",
              "    </tr>\n",
              "    <tr>\n",
              "      <th>3</th>\n",
              "      <td>2</td>\n",
              "      <td>1</td>\n",
              "      <td>Ainsley_Maitland-Niles_4</td>\n",
              "      <td>Ainsley Maitland-Niles</td>\n",
              "    </tr>\n",
              "    <tr>\n",
              "      <th>4</th>\n",
              "      <td>2</td>\n",
              "      <td>1</td>\n",
              "      <td>Sokratis_Papastathopoulos_5</td>\n",
              "      <td>Sokratis Papastathopoulos</td>\n",
              "    </tr>\n",
              "    <tr>\n",
              "      <th>...</th>\n",
              "      <td>...</td>\n",
              "      <td>...</td>\n",
              "      <td>...</td>\n",
              "      <td>...</td>\n",
              "    </tr>\n",
              "    <tr>\n",
              "      <th>661</th>\n",
              "      <td>2</td>\n",
              "      <td>20</td>\n",
              "      <td>Oskar_Buur_587</td>\n",
              "      <td>Oskar Buur</td>\n",
              "    </tr>\n",
              "    <tr>\n",
              "      <th>662</th>\n",
              "      <td>2</td>\n",
              "      <td>20</td>\n",
              "      <td>Ryan_Giles_607</td>\n",
              "      <td>Ryan Giles</td>\n",
              "    </tr>\n",
              "    <tr>\n",
              "      <th>663</th>\n",
              "      <td>3</td>\n",
              "      <td>20</td>\n",
              "      <td>Bruno André_Cavaco Jordao_609</td>\n",
              "      <td>Bruno André Cavaco Jordao</td>\n",
              "    </tr>\n",
              "    <tr>\n",
              "      <th>664</th>\n",
              "      <td>3</td>\n",
              "      <td>20</td>\n",
              "      <td>Daniel_Castelo Podence_619</td>\n",
              "      <td>Daniel Castelo Podence</td>\n",
              "    </tr>\n",
              "    <tr>\n",
              "      <th>665</th>\n",
              "      <td>4</td>\n",
              "      <td>20</td>\n",
              "      <td>Leonardo_Campana_652</td>\n",
              "      <td>Leonardo Campana</td>\n",
              "    </tr>\n",
              "  </tbody>\n",
              "</table>\n",
              "<p>666 rows × 4 columns</p>\n",
              "</div>"
            ],
            "text/plain": [
              "     element_type  team                           name  \\\n",
              "0               2     1             Shkodran_Mustafi_1   \n",
              "1               2     1              Héctor_Bellerín_2   \n",
              "2               2     1               Sead_Kolasinac_3   \n",
              "3               2     1       Ainsley_Maitland-Niles_4   \n",
              "4               2     1    Sokratis_Papastathopoulos_5   \n",
              "..            ...   ...                            ...   \n",
              "661             2    20                 Oskar_Buur_587   \n",
              "662             2    20                 Ryan_Giles_607   \n",
              "663             3    20  Bruno André_Cavaco Jordao_609   \n",
              "664             3    20     Daniel_Castelo Podence_619   \n",
              "665             4    20           Leonardo_Campana_652   \n",
              "\n",
              "                     cleanName  \n",
              "0             Shkodran Mustafi  \n",
              "1              Héctor Bellerín  \n",
              "2               Sead Kolasinac  \n",
              "3       Ainsley Maitland-Niles  \n",
              "4    Sokratis Papastathopoulos  \n",
              "..                         ...  \n",
              "661                 Oskar Buur  \n",
              "662                 Ryan Giles  \n",
              "663  Bruno André Cavaco Jordao  \n",
              "664     Daniel Castelo Podence  \n",
              "665           Leonardo Campana  \n",
              "\n",
              "[666 rows x 4 columns]"
            ]
          },
          "execution_count": 5,
          "metadata": {},
          "output_type": "execute_result"
        }
      ],
      "source": [
        "pl_trim[\"id\"] = pl_trim.loc[:,\"id\"].astype(str)\n",
        "# pl_trim[[\"id\"]] = pl_trim[[\"id\"]].astype(str)\n",
        "# pl_trim[\"id\"] = pl_trim[\"id\"].astype(str)\n",
        "# pl_trim[\"id\"] = pl_trim[\"id\"].map(str)\n",
        "# pl_trim[\"id\"] = pl_trim[\"id\"].apply(str)\n",
        "# pl_trim.id = pl_trim.id.astype('str')\n",
        "# pl_trim.to_string(columns = \"id\")\n",
        "\n",
        "\n",
        "pl_trim = (pl_trim >>\n",
        "           mutate(name = X.first_name + \"_\" + X.second_name + \"_\" + X.id) >>\n",
        "           mutate(cleanName = X.first_name + \" \" + X.second_name) >>\n",
        "           drop(X.first_name, X.second_name, X.id)\n",
        "          )\n",
        "pl_trim"
      ]
    },
    {
      "cell_type": "markdown",
      "metadata": {
        "id": "tmT3dblnak0M"
      },
      "source": [
        "- Combine the two dfs"
      ]
    },
    {
      "cell_type": "code",
      "execution_count": null,
      "metadata": {
        "id": "0Cpl56nRak0N",
        "outputId": "6756a7e3-d0c1-4c24-ec66-d32e62504266"
      },
      "outputs": [
        {
          "data": {
            "text/html": [
              "<div>\n",
              "<style scoped>\n",
              "    .dataframe tbody tr th:only-of-type {\n",
              "        vertical-align: middle;\n",
              "    }\n",
              "\n",
              "    .dataframe tbody tr th {\n",
              "        vertical-align: top;\n",
              "    }\n",
              "\n",
              "    .dataframe thead th {\n",
              "        text-align: right;\n",
              "    }\n",
              "</style>\n",
              "<table border=\"1\" class=\"dataframe\">\n",
              "  <thead>\n",
              "    <tr style=\"text-align: right;\">\n",
              "      <th></th>\n",
              "      <th>name</th>\n",
              "      <th>value</th>\n",
              "      <th>finalScore</th>\n",
              "      <th>element_type</th>\n",
              "      <th>team</th>\n",
              "      <th>cleanName</th>\n",
              "    </tr>\n",
              "  </thead>\n",
              "  <tbody>\n",
              "    <tr>\n",
              "      <th>0</th>\n",
              "      <td>Aaron_Cresswell_376</td>\n",
              "      <td>50</td>\n",
              "      <td>79</td>\n",
              "      <td>2</td>\n",
              "      <td>19</td>\n",
              "      <td>Aaron Cresswell</td>\n",
              "    </tr>\n",
              "    <tr>\n",
              "      <th>1</th>\n",
              "      <td>Aaron_Lennon_430</td>\n",
              "      <td>50</td>\n",
              "      <td>15</td>\n",
              "      <td>3</td>\n",
              "      <td>5</td>\n",
              "      <td>Aaron Lennon</td>\n",
              "    </tr>\n",
              "    <tr>\n",
              "      <th>2</th>\n",
              "      <td>Aaron_Mooy_516</td>\n",
              "      <td>50</td>\n",
              "      <td>80</td>\n",
              "      <td>3</td>\n",
              "      <td>4</td>\n",
              "      <td>Aaron Mooy</td>\n",
              "    </tr>\n",
              "    <tr>\n",
              "      <th>3</th>\n",
              "      <td>Aaron_Ramsdale_494</td>\n",
              "      <td>45</td>\n",
              "      <td>126</td>\n",
              "      <td>1</td>\n",
              "      <td>3</td>\n",
              "      <td>Aaron Ramsdale</td>\n",
              "    </tr>\n",
              "    <tr>\n",
              "      <th>4</th>\n",
              "      <td>Aaron_Wan-Bissaka_122</td>\n",
              "      <td>55</td>\n",
              "      <td>127</td>\n",
              "      <td>2</td>\n",
              "      <td>12</td>\n",
              "      <td>Aaron Wan-Bissaka</td>\n",
              "    </tr>\n",
              "    <tr>\n",
              "      <th>...</th>\n",
              "      <td>...</td>\n",
              "      <td>...</td>\n",
              "      <td>...</td>\n",
              "      <td>...</td>\n",
              "      <td>...</td>\n",
              "      <td>...</td>\n",
              "    </tr>\n",
              "    <tr>\n",
              "      <th>521</th>\n",
              "      <td>Yoshinori_Muto_260</td>\n",
              "      <td>55</td>\n",
              "      <td>9</td>\n",
              "      <td>4</td>\n",
              "      <td>13</td>\n",
              "      <td>Yoshinori Muto</td>\n",
              "    </tr>\n",
              "    <tr>\n",
              "      <th>522</th>\n",
              "      <td>Youri_Tielemans_448</td>\n",
              "      <td>65</td>\n",
              "      <td>117</td>\n",
              "      <td>3</td>\n",
              "      <td>9</td>\n",
              "      <td>Youri Tielemans</td>\n",
              "    </tr>\n",
              "    <tr>\n",
              "      <th>523</th>\n",
              "      <td>Yves_Bissouma_53</td>\n",
              "      <td>50</td>\n",
              "      <td>39</td>\n",
              "      <td>3</td>\n",
              "      <td>4</td>\n",
              "      <td>Yves Bissouma</td>\n",
              "    </tr>\n",
              "    <tr>\n",
              "      <th>524</th>\n",
              "      <td>Çaglar_Söyüncü_164</td>\n",
              "      <td>45</td>\n",
              "      <td>120</td>\n",
              "      <td>2</td>\n",
              "      <td>9</td>\n",
              "      <td>Çaglar Söyüncü</td>\n",
              "    </tr>\n",
              "    <tr>\n",
              "      <th>525</th>\n",
              "      <td>Ørjan_Nyland_27</td>\n",
              "      <td>45</td>\n",
              "      <td>15</td>\n",
              "      <td>1</td>\n",
              "      <td>2</td>\n",
              "      <td>Ørjan Nyland</td>\n",
              "    </tr>\n",
              "  </tbody>\n",
              "</table>\n",
              "<p>526 rows × 6 columns</p>\n",
              "</div>"
            ],
            "text/plain": [
              "                      name  value  finalScore  element_type  team  \\\n",
              "0      Aaron_Cresswell_376     50          79             2    19   \n",
              "1         Aaron_Lennon_430     50          15             3     5   \n",
              "2           Aaron_Mooy_516     50          80             3     4   \n",
              "3       Aaron_Ramsdale_494     45         126             1     3   \n",
              "4    Aaron_Wan-Bissaka_122     55         127             2    12   \n",
              "..                     ...    ...         ...           ...   ...   \n",
              "521     Yoshinori_Muto_260     55           9             4    13   \n",
              "522    Youri_Tielemans_448     65         117             3     9   \n",
              "523       Yves_Bissouma_53     50          39             3     4   \n",
              "524     Çaglar_Söyüncü_164     45         120             2     9   \n",
              "525        Ørjan_Nyland_27     45          15             1     2   \n",
              "\n",
              "             cleanName  \n",
              "0      Aaron Cresswell  \n",
              "1         Aaron Lennon  \n",
              "2           Aaron Mooy  \n",
              "3       Aaron Ramsdale  \n",
              "4    Aaron Wan-Bissaka  \n",
              "..                 ...  \n",
              "521     Yoshinori Muto  \n",
              "522    Youri Tielemans  \n",
              "523      Yves Bissouma  \n",
              "524     Çaglar Söyüncü  \n",
              "525       Ørjan Nyland  \n",
              "\n",
              "[526 rows x 6 columns]"
            ]
          },
          "execution_count": 6,
          "metadata": {},
          "output_type": "execute_result"
        }
      ],
      "source": [
        "combined_df = (gw_final >> left_join(pl_trim, by = \"name\"))\n",
        "combined_df"
      ]
    },
    {
      "cell_type": "markdown",
      "metadata": {
        "id": "XRFX59H6ak0O"
      },
      "source": [
        "# Prep complete, now for Pulp\n",
        "----\n",
        "# Objective Function\n",
        "Add the score of all players to get maximum.\n",
        "\n",
        "# Constraints\n",
        "- No more than 3 players from one team\n",
        "- Budget is 100m (in df in 100,000s - e.g. 45 = 4.5m)\n",
        "- 1 GK\n",
        "- 3-5 Def\n",
        "- 2-5 Mid\n",
        "- 1-3 Str\n",
        "- Exactly 11 players"
      ]
    },
    {
      "cell_type": "code",
      "execution_count": null,
      "metadata": {
        "id": "OFEoP9gpak0O"
      },
      "outputs": [],
      "source": [
        "x = pulp.LpVariable.dict(\"player\", range(0, len(combined_df)),\n",
        "                        0,1, cat=pulp.LpInteger)"
      ]
    },
    {
      "cell_type": "code",
      "execution_count": null,
      "metadata": {
        "id": "xxgjsD2Mak0P"
      },
      "outputs": [],
      "source": [
        "prob = pulp.LpProblem(\"FantasyFootball\", pulp.LpMaximize)"
      ]
    },
    {
      "cell_type": "code",
      "execution_count": null,
      "metadata": {
        "id": "zRDv_mMoak0Q"
      },
      "outputs": [],
      "source": [
        "prob += pulp.lpSum(combined_df[\"finalScore\"][i] * x[i] for i in range(0, len(combined_df)))"
      ]
    },
    {
      "cell_type": "code",
      "execution_count": null,
      "metadata": {
        "id": "QV4LSOCHak0Q"
      },
      "outputs": [],
      "source": [
        "# Add constraints\n",
        "\n",
        "# No more than 3 players per team\n",
        "for team in combined_df.team.unique():\n",
        "        prob += sum(x[i] for i in range(0, len(combined_df)) if combined_df.team[i] == team) <= 3  # max 3 players\n",
        "\n",
        "\n",
        "# One goalkeeper\n",
        "prob  += sum(x[i] for i in range(0, len(combined_df)) if combined_df[\"element_type\"][i] == 1) == 1\n",
        "\n",
        "\n",
        "# Three to Five Defenders\n",
        "prob  += sum(x[i] for i in range(0, len(combined_df)) if combined_df[\"element_type\"][i] == 2) >= 3\n",
        "prob  += sum(x[i] for i in range(0, len(combined_df)) if combined_df[\"element_type\"][i] == 2) <= 5\n",
        "\n",
        "# Three to Five Midfielders\n",
        "prob  += sum(x[i] for i in range(0, len(combined_df)) if combined_df[\"element_type\"][i] == 3) >= 3\n",
        "prob  += sum(x[i] for i in range(0, len(combined_df)) if combined_df[\"element_type\"][i] == 3) <= 5\n",
        "\n",
        "# One to Three Attackers\n",
        "prob  += sum(x[i] for i in range(0, len(combined_df)) if combined_df[\"element_type\"][i] == 4) >= 1\n",
        "prob  += sum(x[i] for i in range(0, len(combined_df)) if combined_df[\"element_type\"][i] == 4) <= 3\n",
        "\n",
        "# 100MM budget (100mil in dataset is 1000)\n",
        "# This does not account for subs however\n",
        "# Decrease budget by the price of the cheapest player in each pos\n",
        "# 4 for GK, 4 for DEF, 5 for MID, 4.5 for FW - 17.5 total\n",
        "prob += sum(x[i] * combined_df[\"value\"][i] for i in range(0, len(combined_df))) <= 825  # total cost\n",
        "\n",
        "\n",
        "# Max 11 players\n",
        "prob += sum(x[i] for i in range(0, len(combined_df))) ==  11\n",
        "\n",
        "\n",
        "# Is limiting each player to appearing once needed?\n",
        "# No"
      ]
    },
    {
      "cell_type": "code",
      "execution_count": null,
      "metadata": {
        "id": "QD1VNIrzak0S",
        "outputId": "6b039664-fd10-4cd5-c810-a80cc171076a"
      },
      "outputs": [
        {
          "name": "stdout",
          "output_type": "stream",
          "text": [
            "1\n"
          ]
        }
      ],
      "source": [
        "print(prob.solve())"
      ]
    },
    {
      "cell_type": "code",
      "execution_count": null,
      "metadata": {
        "id": "rjoVYSLuak0S",
        "outputId": "b1781642-685b-46b5-fb5e-a5aaec13c0ca"
      },
      "outputs": [
        {
          "name": "stdout",
          "output_type": "stream",
          "text": [
            "Optimal\n"
          ]
        }
      ],
      "source": [
        "print(pulp.LpStatus[prob.status])"
      ]
    },
    {
      "cell_type": "code",
      "execution_count": null,
      "metadata": {
        "id": "mNGgoyspak0U",
        "outputId": "e02cfc3a-ba16-49ca-d9a2-140209f8a514"
      },
      "outputs": [
        {
          "name": "stdout",
          "output_type": "stream",
          "text": [
            "2170.0\n"
          ]
        }
      ],
      "source": [
        "print(pulp.value(prob.objective)) # Scores 2170 points"
      ]
    },
    {
      "cell_type": "code",
      "execution_count": null,
      "metadata": {
        "id": "mlBWrf55ak0V",
        "outputId": "abd0b7fe-82fc-4afa-c0ad-dcdbff0edbcd"
      },
      "outputs": [
        {
          "name": "stdout",
          "output_type": "stream",
          "text": [
            "Andrew Robertson makes it into the team! He scored 181 points.\n",
            "Anthony Martial makes it into the team! He scored 200 points.\n",
            "Danny Ings makes it into the team! He scored 198 points.\n",
            "Jamie Vardy makes it into the team! He scored 210 points.\n",
            "Kevin De Bruyne makes it into the team! He scored 251 points.\n",
            "Matt Doherty makes it into the team! He scored 167 points.\n",
            "Nick Pope makes it into the team! He scored 170 points.\n",
            "Raúl Jiménez makes it into the team! He scored 194 points.\n",
            "Sadio Mané makes it into the team! He scored 221 points.\n",
            "Trent Alexander-Arnold makes it into the team! He scored 210 points.\n",
            "Willian Borges Da Silva makes it into the team! He scored 168 points.\n"
          ]
        }
      ],
      "source": [
        "for i in range(0, len(combined_df)):\n",
        "    if pulp.value(x[i]) != 0:\n",
        "        print(\"{player} makes it into the team! He scored {points} points.\".format(player = combined_df[\"cleanName\"][i], points = combined_df[\"finalScore\"][i]))\n"
      ]
    },
    {
      "cell_type": "code",
      "execution_count": null,
      "metadata": {
        "id": "NNIztix_ak0W"
      },
      "outputs": [],
      "source": [
        "squad = pd.DataFrame()\n",
        "for i in range(0, len(combined_df)):\n",
        "    if pulp.value(x[i]) != 0:\n",
        "        squad = squad.append(combined_df[i:i+1], ignore_index = True)\n",
        "\n",
        "squad = squad.sort_values(by = [\"element_type\"])"
      ]
    },
    {
      "cell_type": "code",
      "execution_count": null,
      "metadata": {
        "id": "6Nt3DXyZak0X",
        "outputId": "c39d4f13-a8e3-4a50-b70c-194d10fa83c2"
      },
      "outputs": [
        {
          "name": "stderr",
          "output_type": "stream",
          "text": [
            "<ipython-input-16-89d3afa5e078>:2: SettingWithCopyWarning: \n",
            "A value is trying to be set on a copy of a slice from a DataFrame\n",
            "\n",
            "See the caveats in the documentation: https://pandas.pydata.org/pandas-docs/stable/user_guide/indexing.html#returning-a-view-versus-a-copy\n",
            "  squad[\"finalScore\"][squad[\"finalScore\"] == max(squad[\"finalScore\"])] = 2 * max(squad[\"finalScore\"])\n",
            "<ipython-input-16-89d3afa5e078>:3: SettingWithCopyWarning: \n",
            "A value is trying to be set on a copy of a slice from a DataFrame\n",
            "\n",
            "See the caveats in the documentation: https://pandas.pydata.org/pandas-docs/stable/user_guide/indexing.html#returning-a-view-versus-a-copy\n",
            "  squad[\"cleanName\"][squad[\"finalScore\"] == max(squad[\"finalScore\"])] = squad[\"cleanName\"][squad[\"finalScore\"] == max(squad[\"finalScore\"])] + \"(C)\"\n"
          ]
        }
      ],
      "source": [
        "# Double the best player's score (captain)\n",
        "squad[\"finalScore\"][squad[\"finalScore\"] == max(squad[\"finalScore\"])] = 2 * max(squad[\"finalScore\"])\n",
        "squad[\"cleanName\"][squad[\"finalScore\"] == max(squad[\"finalScore\"])] = squad[\"cleanName\"][squad[\"finalScore\"] == max(squad[\"finalScore\"])] + \"(C)\""
      ]
    },
    {
      "cell_type": "code",
      "execution_count": null,
      "metadata": {
        "id": "G5od3R6yak0Y",
        "outputId": "e4e726bc-88cf-409d-a80e-588a1135d887"
      },
      "outputs": [
        {
          "data": {
            "text/html": [
              "<div>\n",
              "<style scoped>\n",
              "    .dataframe tbody tr th:only-of-type {\n",
              "        vertical-align: middle;\n",
              "    }\n",
              "\n",
              "    .dataframe tbody tr th {\n",
              "        vertical-align: top;\n",
              "    }\n",
              "\n",
              "    .dataframe thead th {\n",
              "        text-align: right;\n",
              "    }\n",
              "</style>\n",
              "<table border=\"1\" class=\"dataframe\">\n",
              "  <thead>\n",
              "    <tr style=\"text-align: right;\">\n",
              "      <th></th>\n",
              "      <th>name</th>\n",
              "      <th>value</th>\n",
              "      <th>finalScore</th>\n",
              "      <th>element_type</th>\n",
              "      <th>team</th>\n",
              "      <th>cleanName</th>\n",
              "    </tr>\n",
              "  </thead>\n",
              "  <tbody>\n",
              "    <tr>\n",
              "      <th>6</th>\n",
              "      <td>Nick_Pope_93</td>\n",
              "      <td>45</td>\n",
              "      <td>170</td>\n",
              "      <td>1</td>\n",
              "      <td>5</td>\n",
              "      <td>Nick Pope</td>\n",
              "    </tr>\n",
              "    <tr>\n",
              "      <th>0</th>\n",
              "      <td>Andrew_Robertson_181</td>\n",
              "      <td>70</td>\n",
              "      <td>181</td>\n",
              "      <td>2</td>\n",
              "      <td>10</td>\n",
              "      <td>Andrew Robertson</td>\n",
              "    </tr>\n",
              "    <tr>\n",
              "      <th>5</th>\n",
              "      <td>Matt_Doherty_401</td>\n",
              "      <td>60</td>\n",
              "      <td>167</td>\n",
              "      <td>2</td>\n",
              "      <td>20</td>\n",
              "      <td>Matt Doherty</td>\n",
              "    </tr>\n",
              "    <tr>\n",
              "      <th>9</th>\n",
              "      <td>Trent_Alexander-Arnold_182</td>\n",
              "      <td>70</td>\n",
              "      <td>210</td>\n",
              "      <td>2</td>\n",
              "      <td>10</td>\n",
              "      <td>Trent Alexander-Arnold</td>\n",
              "    </tr>\n",
              "    <tr>\n",
              "      <th>1</th>\n",
              "      <td>Anthony_Martial_239</td>\n",
              "      <td>75</td>\n",
              "      <td>200</td>\n",
              "      <td>3</td>\n",
              "      <td>12</td>\n",
              "      <td>Anthony Martial</td>\n",
              "    </tr>\n",
              "    <tr>\n",
              "      <th>4</th>\n",
              "      <td>Kevin_De Bruyne_215</td>\n",
              "      <td>95</td>\n",
              "      <td>502</td>\n",
              "      <td>3</td>\n",
              "      <td>11</td>\n",
              "      <td>Kevin De Bruyne(C)</td>\n",
              "    </tr>\n",
              "    <tr>\n",
              "      <th>8</th>\n",
              "      <td>Sadio_Mané_192</td>\n",
              "      <td>115</td>\n",
              "      <td>221</td>\n",
              "      <td>3</td>\n",
              "      <td>10</td>\n",
              "      <td>Sadio Mané</td>\n",
              "    </tr>\n",
              "    <tr>\n",
              "      <th>10</th>\n",
              "      <td>Willian_Borges Da Silva_113</td>\n",
              "      <td>70</td>\n",
              "      <td>168</td>\n",
              "      <td>3</td>\n",
              "      <td>6</td>\n",
              "      <td>Willian Borges Da Silva</td>\n",
              "    </tr>\n",
              "    <tr>\n",
              "      <th>2</th>\n",
              "      <td>Danny_Ings_313</td>\n",
              "      <td>60</td>\n",
              "      <td>198</td>\n",
              "      <td>4</td>\n",
              "      <td>16</td>\n",
              "      <td>Danny Ings</td>\n",
              "    </tr>\n",
              "    <tr>\n",
              "      <th>3</th>\n",
              "      <td>Jamie_Vardy_166</td>\n",
              "      <td>90</td>\n",
              "      <td>210</td>\n",
              "      <td>4</td>\n",
              "      <td>9</td>\n",
              "      <td>Jamie Vardy</td>\n",
              "    </tr>\n",
              "    <tr>\n",
              "      <th>7</th>\n",
              "      <td>Raúl_Jiménez_409</td>\n",
              "      <td>75</td>\n",
              "      <td>194</td>\n",
              "      <td>4</td>\n",
              "      <td>20</td>\n",
              "      <td>Raúl Jiménez</td>\n",
              "    </tr>\n",
              "  </tbody>\n",
              "</table>\n",
              "</div>"
            ],
            "text/plain": [
              "                           name  value  finalScore  element_type  team  \\\n",
              "6                  Nick_Pope_93     45         170             1     5   \n",
              "0          Andrew_Robertson_181     70         181             2    10   \n",
              "5              Matt_Doherty_401     60         167             2    20   \n",
              "9    Trent_Alexander-Arnold_182     70         210             2    10   \n",
              "1           Anthony_Martial_239     75         200             3    12   \n",
              "4           Kevin_De Bruyne_215     95         502             3    11   \n",
              "8                Sadio_Mané_192    115         221             3    10   \n",
              "10  Willian_Borges Da Silva_113     70         168             3     6   \n",
              "2                Danny_Ings_313     60         198             4    16   \n",
              "3               Jamie_Vardy_166     90         210             4     9   \n",
              "7              Raúl_Jiménez_409     75         194             4    20   \n",
              "\n",
              "                  cleanName  \n",
              "6                 Nick Pope  \n",
              "0          Andrew Robertson  \n",
              "5              Matt Doherty  \n",
              "9    Trent Alexander-Arnold  \n",
              "1           Anthony Martial  \n",
              "4        Kevin De Bruyne(C)  \n",
              "8                Sadio Mané  \n",
              "10  Willian Borges Da Silva  \n",
              "2                Danny Ings  \n",
              "3               Jamie Vardy  \n",
              "7              Raúl Jiménez  "
            ]
          },
          "execution_count": 17,
          "metadata": {},
          "output_type": "execute_result"
        }
      ],
      "source": [
        "squad"
      ]
    },
    {
      "cell_type": "code",
      "execution_count": null,
      "metadata": {
        "id": "XYCC-cKvak0Y"
      },
      "outputs": [],
      "source": [
        "def printSquad(playerList):\n",
        "\n",
        "    squad = playerList\n",
        "\n",
        "#     print(\"{0:{fill}{align}{n}}\".format(\"\", fill = \"-\", align = \">\", n=100))\n",
        "\n",
        "    # Goalie\n",
        "    for i in range(0, len(squad)):\n",
        "        if squad[\"element_type\"][i] == 1:\n",
        "            print(\"{:^100s}\".format(squad[\"cleanName\"][i]))\n",
        "            print(\"{:^100s}\".format(str(squad[\"finalScore\"][i])))\n",
        "\n",
        "    print(\"\\n\")\n",
        "\n",
        "    # Defenders\n",
        "    defs = squad[squad.element_type == 2].copy().reset_index(drop = True)\n",
        "    print(\"{:^0s} {:^66s} {:^40s}\".format(str(defs[\"cleanName\"][0]),\n",
        "                                                          str(defs[\"cleanName\"][1]),\n",
        "                                                          str(defs[\"cleanName\"][2])))\n",
        "    print(\"{:^15s} {:^66s} {:^40s}\".format(str(defs[\"finalScore\"][0]),\n",
        "                                                          str(defs[\"finalScore\"][1]),\n",
        "                                                          str(defs[\"finalScore\"][2])))\n",
        "    print(\"\\n\")\n",
        "\n",
        "\n",
        "    # Mids\n",
        "    mids = squad[squad.element_type == 3].copy().reset_index(drop = True)\n",
        "    print(\"{:^30s} {:^30s} {:^10s} {:^35s}\".format(str(mids[\"cleanName\"][0]),\n",
        "                                                   str(mids[\"cleanName\"][1]),\n",
        "                                                   str(mids[\"cleanName\"][2]),\n",
        "                                                   str(mids[\"cleanName\"][3])))\n",
        "    print(\"{:^30s} {:^30s} {:^10s} {:^35s}\".format(str(mids[\"finalScore\"][0]),\n",
        "                                                   str(mids[\"finalScore\"][1]),\n",
        "                                                   str(mids[\"finalScore\"][2]),\n",
        "                                                   str(mids[\"finalScore\"][3])))\n",
        "    print(\"\\n\")\n",
        "\n",
        "    # FWs\n",
        "    forwards = squad[squad.element_type == 4].copy().reset_index(drop = True)\n",
        "    print(\"{:^60s} {:^30s}\".format(str(forwards[\"cleanName\"][0]),\n",
        "                                                   str(forwards[\"cleanName\"][1])))\n",
        "    print(\"{:^60s} {:^30s}\".format(str(forwards[\"finalScore\"][0]),\n",
        "                                                   str(forwards[\"finalScore\"][1])))\n",
        "    print(\"{:^100s}\".format(str(forwards[\"cleanName\"][2])))\n",
        "    print(\"{:^100s}\".format(str(forwards[\"finalScore\"][2])))\n",
        "    print(\"Total points: {points}\".format(points = squad[\"finalScore\"].sum()))"
      ]
    },
    {
      "cell_type": "code",
      "execution_count": null,
      "metadata": {
        "scrolled": true,
        "id": "lPqUStC-ak0Z",
        "outputId": "08da9da8-cd65-4aa6-b84b-25197c953672"
      },
      "outputs": [
        {
          "name": "stdout",
          "output_type": "stream",
          "text": [
            "                                             Nick Pope                                              \n",
            "                                                170                                                 \n",
            "\n",
            "\n",
            "Andrew Robertson                            Matt Doherty                                     Trent Alexander-Arnold         \n",
            "      181                                      167                                                   210                   \n",
            "\n",
            "\n",
            "       Anthony Martial               Kevin De Bruyne(C)       Sadio Mané       Willian Borges Da Silva      \n",
            "             200                            502                  221                     168                \n",
            "\n",
            "\n",
            "                         Danny Ings                                   Jamie Vardy          \n",
            "                            198                                           210              \n",
            "                                            Raúl Jiménez                                            \n",
            "                                                194                                                 \n",
            "Total points: 2421\n"
          ]
        }
      ],
      "source": [
        "printSquad(squad)"
      ]
    },
    {
      "cell_type": "code",
      "execution_count": null,
      "metadata": {
        "id": "J9BL5gL0ak0a"
      },
      "outputs": [],
      "source": [
        "# 2019/20 winner had 2557"
      ]
    }
  ],
  "metadata": {
    "kernelspec": {
      "display_name": "Python 3",
      "language": "python",
      "name": "python3"
    },
    "language_info": {
      "codemirror_mode": {
        "name": "ipython",
        "version": 3
      },
      "file_extension": ".py",
      "mimetype": "text/x-python",
      "name": "python",
      "nbconvert_exporter": "python",
      "pygments_lexer": "ipython3",
      "version": "3.8.3"
    },
    "colab": {
      "provenance": [],
      "include_colab_link": true
    }
  },
  "nbformat": 4,
  "nbformat_minor": 0
}